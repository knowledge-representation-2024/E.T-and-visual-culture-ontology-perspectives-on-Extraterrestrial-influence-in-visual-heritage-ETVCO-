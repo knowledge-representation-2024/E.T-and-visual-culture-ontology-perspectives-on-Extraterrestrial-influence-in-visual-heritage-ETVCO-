{
 "cells": [
  {
   "cell_type": "code",
   "execution_count": null,
   "id": "0babed47-bcfa-4d40-8905-097ae0892078",
   "metadata": {},
   "outputs": [],
   "source": []
  },
  {
   "cell_type": "code",
   "execution_count": null,
   "id": "4353a587-06a5-4904-83cc-46e8b1bc8ae7",
   "metadata": {},
   "outputs": [],
   "source": [
    "CQ1: Which are the artifacts that are interpreted as depicting humanoid figures with exaggerated proportions?"
   ]
  },
  {
   "cell_type": "code",
   "execution_count": null,
   "id": "f95968c9-7c54-45e0-a02b-c4df03cc2b82",
   "metadata": {},
   "outputs": [],
   "source": [
    "SELECT ?artifact ?character ?interpretation\n",
    "WHERE {\n",
    "    ?artifact a icon:Artwork;\n",
    "              icon:recognizedImage ?image.\n",
    "    \n",
    "    # The image has a character (humanoid figure)\n",
    "    ?image icon:hasCharacter ?character.\n",
    "    ?character a etvco:HumanoidFigure;\n",
    "               etvco:hasExaggeratedProportion ?proportion.\n",
    "    \n",
    "    # The artifact has an interpretation\n",
    "    ?artifact etvco:hasInterpretation ?interpretation.\n",
    "    ?interpretation a etvco:Interpretation.\n",
    "}\n",
    "#The artifacts are also linked to their interpretations, which might describe them as depicting humanoid figures with exaggerated proportions."
   ]
  },
  {
   "cell_type": "markdown",
   "id": "5f152563-1f45-4274-b5d9-aeaf826ae807",
   "metadata": {},
   "source": [
    "CQ3: What visual features(attribute) (e.g., head size, body shape) contribute to the alien interpretation? "
   ]
  },
  {
   "cell_type": "code",
   "execution_count": null,
   "id": "0b90bc94-5e1c-4398-8ad1-ee2392dbd212",
   "metadata": {},
   "outputs": [],
   "source": [
    "etvco\n",
    "rdfs\n",
    "icon\n",
    "\n",
    "SELECT\n",
    "\n",
    "WHERE {\n",
    "    ?artwork a icon:Artwork.\n",
    "    ?recognition a icon:IconographicalRecognition;\n",
    "    icon:aboutWorkOfArt ?artwork.\n",
    "    icon:recognizedImage ?image.\n",
    "    ?image a icon:Image; \n",
    "    :hasCharacter ?character.\n",
    "    ?character a etvco:AlienRelatedCharacter.\n",
    "    ?image :hasRecAttribute ?motif.\n",
    "    ?motif a icon:ArtisticMotif;\n",
    "    icon:hasFactualMeaning ?meaning.\n",
    "    ?meaning a etvco:RealWorldObject;\n",
    "    etvco:isDefinedBy ?interpretation.\n",
    "    ?interpretation etvco:dependOn ?object.\n",
    "    {?object etvco:madeBy ?aspect. ?aspect a etvco:Aspect}\n",
    "    UNION\n",
    "    {?object etvco:madeBy ?composition. ?composition a etvco:CompositionOfAspects}\n",
    "    \n",
    "    \n",
    "}"
   ]
  },
  {
   "cell_type": "code",
   "execution_count": null,
   "id": "b9274575-ba87-49e9-89bb-6cee60c1b288",
   "metadata": {},
   "outputs": [],
   "source": [
    "CQ4: Why are these aspects considered as evidence of alien depiction?\n",
    "SELECT ?aspect ?object ?interpretation ?character ?motif    \n",
    "WHERE {\n",
    "    how to link to the previous answer?\n",
    "\n",
    "    ?aspect a etvco:Aspect;\n",
    "            etvco:makes ?object.\n",
    "    \n",
    "    ?object etvco:hasInterpretation ?interpretation.\n",
    "    ?interpretation etvco:dependOn ?object.\n",
    "    \n",
    "    # we need a way to connect object and motif\n",
    "    ?object icon:hasRecAttribute ?ArtisticMotif.\n",
    "    ?ArtisticMotif a icon:ArtisticMotif;\n",
    "           icon:hasFactualMeaning ?meaning.\n",
    "    ?meaning a etvco:RealWorldObject;\n",
    "             etvco:isDefinedBy ?interpretation.\n",
    "                 \n",
    "    ?object etvco:hasCharacter ?character.\n",
    "    ?character a etvco:AlienRelatedCharacter.\n",
    "}\n"
   ]
  },
  {
   "cell_type": "code",
   "execution_count": null,
   "id": "0f685bd3-1e80-4090-899a-97728be19bcf",
   "metadata": {},
   "outputs": [],
   "source": [
    "CQ5: How are these features interpreted by other agents (art historians, archeologists)?- it overlapped"
   ]
  },
  {
   "cell_type": "code",
   "execution_count": null,
   "id": "17d00472-d773-4126-8ce9-c25aa86934d8",
   "metadata": {},
   "outputs": [],
   "source": [
    "some how overlapped with another one , or how we link to the previous answer"
   ]
  },
  {
   "cell_type": "code",
   "execution_count": null,
   "id": "788f2cdc-6a8f-46e8-a506-812af5ef1130",
   "metadata": {},
   "outputs": [],
   "source": [
    "2. Story Title: Artifacts interpreted as evidence of Alien Technology\n",
    "CQ1: \"What kind of shapes are interpreted as modern technology?\""
   ]
  },
  {
   "cell_type": "code",
   "execution_count": null,
   "id": "72b45120-e2a7-4a4e-8b81-4c33ffc53146",
   "metadata": {},
   "outputs": [],
   "source": [
    "SELECT ?shape ?realworldobject\n",
    "WHERE {\n",
    "  ?shape a etvco:Shape;                         \n",
    "  rdfs:subClassOf ?aspect.                 \n",
    "  ?aspect etvco:makes ?object.                    \n",
    "  ?object etvco:hasInterpretation ?interpretation. \n",
    "  ?interpretation a etvco:Interpretation.         \n",
    "}\n"
   ]
  },
  {
   "cell_type": "code",
   "execution_count": null,
   "id": "198108fd-50ab-427e-8e8a-5fc722911c77",
   "metadata": {},
   "outputs": [],
   "source": [
    "CQ2: How are these shapes interpreted by different agents?"
   ]
  },
  {
   "cell_type": "code",
   "execution_count": null,
   "id": "4b227274-0ef5-42ac-8d9f-ae1e58d9550f",
   "metadata": {},
   "outputs": [],
   "source": [
    "SELECT ?shape ?agent ?interpretation\n",
    "WHERE {\n",
    "   ?shape a etvco:Shape;\n",
    "          rdfs:subClassOf ?aspect.\n",
    "   ?aspect etvco:makes ?object.\n",
    "   ?object etvco:hasInterpretation ?interpretation.\n",
    "   ?interpretation a etvco:Interpretation.\n",
    "   ?interpretation rdfs:subClassOf ?cut.\n",
    "   ?cut a cp:Cut.\n",
    "   ?conceptualizer cp:holds ?attitude.\n",
    "   ?attitude cp:towards ?cut.\n",
    "   ?conceptualizer rdfs:subClassOf ?agent.\n",
    "   ?agent a dul:Agent.\n",
    "}"
   ]
  },
  {
   "cell_type": "code",
   "execution_count": null,
   "id": "9e588648-dc48-4753-ad51-f87cf53b90ae",
   "metadata": {},
   "outputs": [],
   "source": [
    "CQ3: \"What artifacts are interpreted as depicting alien technology?\""
   ]
  },
  {
   "cell_type": "code",
   "execution_count": null,
   "id": "958fbcf1-9e53-4baa-a173-723921c5fb20",
   "metadata": {},
   "outputs": [],
   "source": [
    "SELECT  ? ?agent ?"
   ]
  },
  {
   "cell_type": "code",
   "execution_count": null,
   "id": "e704f2cb-b969-4ca5-857b-d3a4feb6a113",
   "metadata": {},
   "outputs": [],
   "source": [
    "WHERE {\n",
    " artdacts a icon:Artwork             \n",
    "}"
   ]
  },
  {
   "cell_type": "code",
   "execution_count": null,
   "id": "6413de6c-0b92-48f0-a486-a96f6be9a12a",
   "metadata": {},
   "outputs": [],
   "source": [
    "CQ4:What is the cut of a specific interpretation of conspiracy theorists?"
   ]
  },
  {
   "cell_type": "code",
   "execution_count": null,
   "id": "ef7c99bb-c36d-407c-a42e-fdbe596bcbfe",
   "metadata": {},
   "outputs": [],
   "source": [
    "SELECT ?agent ?cut ?interpretation\n",
    "WHERE {\n",
    "   ?interpretation a etvco:Interpretation.\n",
    "   ?interpretation rdfs:subClassOf ?cut.\n",
    "   ?cut a cp:Cut.\n",
    "   \n",
    "   ?conceptualizer cp:holds ?attitude.\n",
    "   ?attitude cp:towards ?cut.\n",
    "   ?conceptualizer rdfs:subClassOf ?agent.\n",
    "   ?agent a dul:Agent.\n",
    "}"
   ]
  },
  {
   "cell_type": "code",
   "execution_count": null,
   "id": "f760e6ff-00e0-4484-8399-5fefa0e88f75",
   "metadata": {},
   "outputs": [],
   "source": []
  }
 ],
 "metadata": {
  "kernelspec": {
   "display_name": "Python 3 (ipykernel)",
   "language": "python",
   "name": "python3"
  },
  "language_info": {
   "codemirror_mode": {
    "name": "ipython",
    "version": 3
   },
   "file_extension": ".py",
   "mimetype": "text/x-python",
   "name": "python",
   "nbconvert_exporter": "python",
   "pygments_lexer": "ipython3",
   "version": "3.12.4"
  }
 },
 "nbformat": 4,
 "nbformat_minor": 5
}
