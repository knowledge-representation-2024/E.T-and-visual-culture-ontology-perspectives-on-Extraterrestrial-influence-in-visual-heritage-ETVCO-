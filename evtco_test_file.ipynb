{
 "cells": [
  {
   "cell_type": "markdown",
   "id": "8b0408ea-f947-43df-ac49-22a6941d393f",
   "metadata": {},
   "source": [
    "CQ3: What visual features(attribute) (e.g., head size, body shape) contribute to the alien interpretation? "
   ]
  },
  {
   "cell_type": "code",
   "execution_count": null,
   "id": "0b90bc94-5e1c-4398-8ad1-ee2392dbd212",
   "metadata": {},
   "outputs": [],
   "source": [
    "etvco\n",
    "rdfs\n",
    "icon\n",
    "\n",
    "SELECT\n",
    "\n",
    "WHERE {\n",
    "    ?artwork a icon:Artwork.\n",
    "    ?recognition a icon:IconographicalRecognition;\n",
    "    icon:aboutWorkOfArt ?artwork.\n",
    "    icon:recognizedImage ?image.\n",
    "    ?image a icon:Image; \n",
    "    :hasCharacter ?character.\n",
    "    ?character a etvco:AlienRelatedCharacter.\n",
    "    ?image :hasRecAttribute ?motif.\n",
    "    ?motif a icon:ArtisticMotif;\n",
    "    icon:hasFactualMeaning ?meaning.\n",
    "    ?meaning a etvco:RealWorldObject;\n",
    "    etvco:isDefinedBy ?interpretation.\n",
    "    ?interpretation etvco:dependOn ?object.\n",
    "    {?object etvco:madeBy ?aspect. ?aspect a etvco:Aspect}\n",
    "    UNION\n",
    "    {?object etvco:madeBy ?composition. ?composition a etvco:CompositionOfAspects}\n",
    "    \n",
    "    \n",
    "}"
   ]
  }
 ],
 "metadata": {
  "kernelspec": {
   "display_name": "Python 3 (ipykernel)",
   "language": "python",
   "name": "python3"
  },
  "language_info": {
   "codemirror_mode": {
    "name": "ipython",
    "version": 3
   },
   "file_extension": ".py",
   "mimetype": "text/x-python",
   "name": "python",
   "nbconvert_exporter": "python",
   "pygments_lexer": "ipython3",
   "version": "3.10.11"
  }
 },
 "nbformat": 4,
 "nbformat_minor": 5
}
