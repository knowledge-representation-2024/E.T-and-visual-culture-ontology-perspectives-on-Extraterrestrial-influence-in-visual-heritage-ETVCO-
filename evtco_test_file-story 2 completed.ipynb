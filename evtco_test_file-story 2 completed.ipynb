{
 "cells": [
  {
   "cell_type": "markdown",
   "id": "4353a587-06a5-4904-83cc-46e8b1bc8ae7",
   "metadata": {},
   "source": [
    "# Ontology evaluation using SPARQL queries and competency questions\n"
   ]
  },
  {
   "cell_type": "code",
   "execution_count": 8,
   "id": "f8ee63d2",
   "metadata": {},
   "outputs": [],
   "source": [
    "import rdflib\n",
    "from rdflib.namespace import CSVW, DC, DCAT, DCTERMS, DOAP, FOAF, ODRL2, ORG, OWL, \\\n",
    "                           PROF, PROV, RDF, RDFS, SDO, SH, SKOS, SOSA, SSN, TIME, \\\n",
    "                           VOID, XMLNS, XSD\n",
    "from rdflib import Namespace\n",
    "from rdflib import URIRef"
   ]
  },
  {
   "cell_type": "code",
   "execution_count": 9,
   "id": "5dcc2e8d",
   "metadata": {},
   "outputs": [
    {
     "data": {
      "text/plain": [
       "<Graph identifier=Ne6beb8a88d824ce981adb35fc4345240 (<class 'rdflib.graph.Graph'>)>"
      ]
     },
     "execution_count": 9,
     "metadata": {},
     "output_type": "execute_result"
    }
   ],
   "source": [
    "newg = rdflib.Graph() # we create a new graph\n",
    "newg.parse(\"etvcontology.ttl\", format=\"ttl\")"
   ]
  },
  {
   "cell_type": "markdown",
   "id": "7d9442db",
   "metadata": {},
   "source": [
    "## 1. Story Title: Interpretations of Artifacts (sculptures, paintings, petroglyphs etc) with Unusual Features\n",
    "CQ1: Which are the artifacts that are interpreted as depicting humanoid figures with exaggerated proportions?"
   ]
  },
  {
   "cell_type": "code",
   "execution_count": 10,
   "id": "f95968c9-7c54-45e0-a02b-c4df03cc2b82",
   "metadata": {},
   "outputs": [
    {
     "data": {
      "text/plain": [
       "'SELECT ?artifact ?character ?interpretation\\nWHERE {\\n    ?artifact a icon:Artwork;\\n              icon:recognizedImage ?image.\\n    \\n    ?image icon:hasCharacter ?character.\\n    ?character a etvco:HumanoidFigure;\\n               etvco:hasExaggeratedProportion ?proportion. #haven t link to the abstract classes\\n    \\n    \\n    ?artifact etvco:hasInterpretation ?interpretation.\\n    ?interpretation a etvco:Interpretation.\\n}'"
      ]
     },
     "execution_count": 10,
     "metadata": {},
     "output_type": "execute_result"
    }
   ],
   "source": [
    "\"\"\"SELECT ?artifact ?character ?interpretation\n",
    "WHERE {\n",
    "    ?artifact a icon:Artwork;\n",
    "              icon:recognizedImage ?image.\n",
    "    \n",
    "    ?image icon:hasCharacter ?character.\n",
    "    ?character a etvco:HumanoidFigure;\n",
    "               etvco:hasExaggeratedProportion ?proportion. #haven t link to the abstract classes\n",
    "    \n",
    "    \n",
    "    ?artifact etvco:hasInterpretation ?interpretation.\n",
    "    ?interpretation a etvco:Interpretation.\n",
    "}\"\"\"\n"
   ]
  },
  {
   "cell_type": "markdown",
   "id": "5f152563-1f45-4274-b5d9-aeaf826ae807",
   "metadata": {},
   "source": [
    "CQ3: What visual features(attribute) (e.g., head size, body shape) contribute to the alien interpretation? "
   ]
  },
  {
   "cell_type": "code",
   "execution_count": 11,
   "id": "0b90bc94-5e1c-4398-8ad1-ee2392dbd212",
   "metadata": {},
   "outputs": [
    {
     "data": {
      "text/plain": [
       "'SELECT ?artwork ?motif ?aspect ?composition ?meaning\\n\\nWHERE {\\n    ?artwork a icon:Artwork.\\n    ?recognition a icon:IconographicalRecognition;\\n    icon:aboutWorkOfArt ?artwork.\\n    icon:recognizedImage ?image.\\n    ?image a icon:Image; \\n    :hasCharacter ?character.\\n    ?character a etvco:AlienRelatedCharacter.\\n    ?image :hasRecAttribute ?motif.\\n    ?motif a icon:ArtisticMotif;\\n    icon:hasFactualMeaning ?meaning.\\n    ?meaning a etvco:RealWorldObject;\\n    etvco:isDefinedBy ?interpretation.\\n    ?interpretation etvco:dependOn ?object.\\n    {?object etvco:madeBy ?aspect. ?aspect a etvco:Aspect}\\n    UNION\\n    {?object etvco:madeBy ?composition. ?composition a etvco:CompositionOfAspects}\\n    \\n    \\n}'"
      ]
     },
     "execution_count": 11,
     "metadata": {},
     "output_type": "execute_result"
    }
   ],
   "source": [
    "\"\"\"SELECT ?artwork ?motif ?aspect ?composition ?meaning\n",
    "\n",
    "WHERE {\n",
    "    ?artwork a icon:Artwork.\n",
    "    ?recognition a icon:IconographicalRecognition;\n",
    "    icon:aboutWorkOfArt ?artwork.\n",
    "    icon:recognizedImage ?image.\n",
    "    ?image a icon:Image; \n",
    "    :hasCharacter ?character.\n",
    "    ?character a etvco:AlienRelatedCharacter.\n",
    "    ?image :hasRecAttribute ?motif.\n",
    "    ?motif a icon:ArtisticMotif;\n",
    "    icon:hasFactualMeaning ?meaning.\n",
    "    ?meaning a etvco:RealWorldObject;\n",
    "    etvco:isDefinedBy ?interpretation.\n",
    "    ?interpretation etvco:dependOn ?object.\n",
    "    {?object etvco:madeBy ?aspect. ?aspect a etvco:Aspect}\n",
    "    UNION\n",
    "    {?object etvco:madeBy ?composition. ?composition a etvco:CompositionOfAspects}\n",
    "    \n",
    "    \n",
    "}\"\"\""
   ]
  },
  {
   "cell_type": "markdown",
   "id": "6345d112",
   "metadata": {},
   "source": [
    "CQ4: Why are these aspects considered as evidence of alien depiction?"
   ]
  },
  {
   "cell_type": "code",
   "execution_count": 12,
   "id": "b9274575-ba87-49e9-89bb-6cee60c1b288",
   "metadata": {},
   "outputs": [
    {
     "data": {
      "text/plain": [
       "'SELECT ?aspect ?object ?interpretation ?character ?motif    \\nWHERE {\\n    how to link to the previous answer?\\n\\n    ?aspect a etvco:Aspect;\\n            etvco:makes ?object.\\n    \\n    ?object etvco:hasInterpretation ?interpretation.\\n    ?interpretation etvco:dependOn ?object.\\n    \\n    # we need a way to connect object and motif\\n    ?object icon:hasRecAttribute ?ArtisticMotif.\\n    ?ArtisticMotif a icon:ArtisticMotif;\\n           icon:hasFactualMeaning ?meaning.\\n    ?meaning a etvco:RealWorldObject;\\n             etvco:isDefinedBy ?interpretation.\\n                 \\n    ?object etvco:hasCharacter ?character.\\n    ?character a etvco:AlienRelatedCharacter.\\n}'"
      ]
     },
     "execution_count": 12,
     "metadata": {},
     "output_type": "execute_result"
    }
   ],
   "source": [
    "\"\"\"SELECT ?aspect ?object ?interpretation ?character ?motif    \n",
    "WHERE {\n",
    "    how to link to the previous answer?\n",
    "\n",
    "    ?aspect a etvco:Aspect;\n",
    "            etvco:makes ?object.\n",
    "    \n",
    "    ?object etvco:hasInterpretation ?interpretation.\n",
    "    ?interpretation etvco:dependOn ?object.\n",
    "    \n",
    "    # we need a way to connect object and motif\n",
    "    ?object icon:hasRecAttribute ?ArtisticMotif.\n",
    "    ?ArtisticMotif a icon:ArtisticMotif;\n",
    "           icon:hasFactualMeaning ?meaning.\n",
    "    ?meaning a etvco:RealWorldObject;\n",
    "             etvco:isDefinedBy ?interpretation.\n",
    "                 \n",
    "    ?object etvco:hasCharacter ?character.\n",
    "    ?character a etvco:AlienRelatedCharacter.\n",
    "}\"\"\"\n"
   ]
  },
  {
   "cell_type": "markdown",
   "id": "70428364",
   "metadata": {},
   "source": [
    "CQ5: How are these features interpreted by other agents (art historians, archeologists)?"
   ]
  },
  {
   "cell_type": "code",
   "execution_count": 13,
   "id": "0f685bd3-1e80-4090-899a-97728be19bcf",
   "metadata": {},
   "outputs": [
    {
     "data": {
      "text/plain": [
       "'it overlapped'"
      ]
     },
     "execution_count": 13,
     "metadata": {},
     "output_type": "execute_result"
    }
   ],
   "source": [
    "\n",
    "\"\"\"it overlapped\"\"\""
   ]
  },
  {
   "cell_type": "markdown",
   "id": "da93eb2d",
   "metadata": {},
   "source": [
    "## 2. Story Title: Artifacts interpreted as evidence of Alien Technology\n",
    "CQ1: \"What kind of shapes are interpreted as modern technology?\""
   ]
  },
  {
   "cell_type": "code",
   "execution_count": 14,
   "id": "72b45120-e2a7-4a4e-8b81-4c33ffc53146",
   "metadata": {},
   "outputs": [
    {
     "ename": "ParseException",
     "evalue": "Expected SelectQuery, found '.'  (at char 76), (line:2, col:76)",
     "output_type": "error",
     "traceback": [
      "\u001b[1;31m---------------------------------------------------------------------------\u001b[0m",
      "\u001b[1;31mParseException\u001b[0m                            Traceback (most recent call last)",
      "Cell \u001b[1;32mIn[14], line 16\u001b[0m\n\u001b[0;32m      1\u001b[0m cq \u001b[38;5;241m=\u001b[39m\u001b[38;5;124m\"\"\"\u001b[39m\n\u001b[0;32m      2\u001b[0m \u001b[38;5;124mPREFIX etvco: <http://www.semanticweb.org/casaz/ontologies/2024/10/etvco/> .\u001b[39m\n\u001b[0;32m      3\u001b[0m \u001b[38;5;124mPREFIX rdfs: <http://www.w3.org/2000/01/rdf-schema#> .\u001b[39m\n\u001b[1;32m   (...)\u001b[0m\n\u001b[0;32m     13\u001b[0m \u001b[38;5;124m}\u001b[39m\n\u001b[0;32m     14\u001b[0m \u001b[38;5;124m\"\"\"\u001b[39m\n\u001b[1;32m---> 16\u001b[0m cqres \u001b[38;5;241m=\u001b[39m \u001b[43mnewg\u001b[49m\u001b[38;5;241;43m.\u001b[39;49m\u001b[43mquery\u001b[49m\u001b[43m(\u001b[49m\u001b[43mcq\u001b[49m\u001b[43m)\u001b[49m\n\u001b[0;32m     18\u001b[0m \u001b[38;5;28;01mfor\u001b[39;00m row \u001b[38;5;129;01min\u001b[39;00m cqres:\n\u001b[0;32m     19\u001b[0m     \u001b[38;5;28mprint\u001b[39m(row)\n",
      "File \u001b[1;32mc:\\Users\\casaz\\AppData\\Local\\Programs\\Python\\Python310\\lib\\site-packages\\rdflib\\graph.py:1581\u001b[0m, in \u001b[0;36mGraph.query\u001b[1;34m(self, query_object, processor, result, initNs, initBindings, use_store_provided, **kwargs)\u001b[0m\n\u001b[0;32m   1578\u001b[0m     processor \u001b[38;5;241m=\u001b[39m plugin\u001b[38;5;241m.\u001b[39mget(processor, query\u001b[38;5;241m.\u001b[39mProcessor)(\u001b[38;5;28mself\u001b[39m)\n\u001b[0;32m   1580\u001b[0m \u001b[38;5;66;03m# type error: Argument 1 to \"Result\" has incompatible type \"Mapping[str, Any]\"; expected \"str\"\u001b[39;00m\n\u001b[1;32m-> 1581\u001b[0m \u001b[38;5;28;01mreturn\u001b[39;00m result(processor\u001b[38;5;241m.\u001b[39mquery(query_object, initBindings, initNs, \u001b[38;5;241m*\u001b[39m\u001b[38;5;241m*\u001b[39mkwargs))\n",
      "File \u001b[1;32mc:\\Users\\casaz\\AppData\\Local\\Programs\\Python\\Python310\\lib\\site-packages\\rdflib\\plugins\\sparql\\processor.py:145\u001b[0m, in \u001b[0;36mSPARQLProcessor.query\u001b[1;34m(self, strOrQuery, initBindings, initNs, base, DEBUG)\u001b[0m\n\u001b[0;32m    125\u001b[0m \u001b[38;5;250m\u001b[39m\u001b[38;5;124;03m\"\"\"\u001b[39;00m\n\u001b[0;32m    126\u001b[0m \u001b[38;5;124;03mEvaluate a query with the given initial bindings, and initial\u001b[39;00m\n\u001b[0;32m    127\u001b[0m \u001b[38;5;124;03mnamespaces. The given base is used to resolve relative URIs in\u001b[39;00m\n\u001b[1;32m   (...)\u001b[0m\n\u001b[0;32m    141\u001b[0m \u001b[38;5;124;03m   documentation.\u001b[39;00m\n\u001b[0;32m    142\u001b[0m \u001b[38;5;124;03m\"\"\"\u001b[39;00m\n\u001b[0;32m    144\u001b[0m \u001b[38;5;28;01mif\u001b[39;00m \u001b[38;5;28misinstance\u001b[39m(strOrQuery, \u001b[38;5;28mstr\u001b[39m):\n\u001b[1;32m--> 145\u001b[0m     strOrQuery \u001b[38;5;241m=\u001b[39m translateQuery(\u001b[43mparseQuery\u001b[49m\u001b[43m(\u001b[49m\u001b[43mstrOrQuery\u001b[49m\u001b[43m)\u001b[49m, base, initNs)\n\u001b[0;32m    147\u001b[0m \u001b[38;5;28;01mreturn\u001b[39;00m evalQuery(\u001b[38;5;28mself\u001b[39m\u001b[38;5;241m.\u001b[39mgraph, strOrQuery, initBindings, base)\n",
      "File \u001b[1;32mc:\\Users\\casaz\\AppData\\Local\\Programs\\Python\\Python310\\lib\\site-packages\\rdflib\\plugins\\sparql\\parser.py:1553\u001b[0m, in \u001b[0;36mparseQuery\u001b[1;34m(q)\u001b[0m\n\u001b[0;32m   1550\u001b[0m     q \u001b[38;5;241m=\u001b[39m q\u001b[38;5;241m.\u001b[39mdecode(\u001b[38;5;124m\"\u001b[39m\u001b[38;5;124mutf-8\u001b[39m\u001b[38;5;124m\"\u001b[39m)\n\u001b[0;32m   1552\u001b[0m q \u001b[38;5;241m=\u001b[39m expandUnicodeEscapes(q)\n\u001b[1;32m-> 1553\u001b[0m \u001b[38;5;28;01mreturn\u001b[39;00m \u001b[43mQuery\u001b[49m\u001b[38;5;241;43m.\u001b[39;49m\u001b[43mparseString\u001b[49m\u001b[43m(\u001b[49m\u001b[43mq\u001b[49m\u001b[43m,\u001b[49m\u001b[43m \u001b[49m\u001b[43mparseAll\u001b[49m\u001b[38;5;241;43m=\u001b[39;49m\u001b[38;5;28;43;01mTrue\u001b[39;49;00m\u001b[43m)\u001b[49m\n",
      "File \u001b[1;32mc:\\Users\\casaz\\AppData\\Local\\Programs\\Python\\Python310\\lib\\site-packages\\pyparsing\\util.py:256\u001b[0m, in \u001b[0;36mreplaced_by_pep8.<locals>._inner\u001b[1;34m(self, *args, **kwargs)\u001b[0m\n\u001b[0;32m    251\u001b[0m \u001b[38;5;129m@wraps\u001b[39m(fn)\n\u001b[0;32m    252\u001b[0m \u001b[38;5;28;01mdef\u001b[39;00m \u001b[38;5;21m_inner\u001b[39m(\u001b[38;5;28mself\u001b[39m, \u001b[38;5;241m*\u001b[39margs, \u001b[38;5;241m*\u001b[39m\u001b[38;5;241m*\u001b[39mkwargs):\n\u001b[0;32m    253\u001b[0m     \u001b[38;5;66;03m# warnings.warn(\u001b[39;00m\n\u001b[0;32m    254\u001b[0m     \u001b[38;5;66;03m#     f\"Deprecated - use {fn.__name__}\", DeprecationWarning, stacklevel=2\u001b[39;00m\n\u001b[0;32m    255\u001b[0m     \u001b[38;5;66;03m# )\u001b[39;00m\n\u001b[1;32m--> 256\u001b[0m     \u001b[38;5;28;01mreturn\u001b[39;00m fn(\u001b[38;5;28mself\u001b[39m, \u001b[38;5;241m*\u001b[39margs, \u001b[38;5;241m*\u001b[39m\u001b[38;5;241m*\u001b[39mkwargs)\n",
      "File \u001b[1;32mc:\\Users\\casaz\\AppData\\Local\\Programs\\Python\\Python310\\lib\\site-packages\\pyparsing\\core.py:1200\u001b[0m, in \u001b[0;36mParserElement.parse_string\u001b[1;34m(self, instring, parse_all, parseAll)\u001b[0m\n\u001b[0;32m   1197\u001b[0m         \u001b[38;5;28;01mraise\u001b[39;00m\n\u001b[0;32m   1198\u001b[0m     \u001b[38;5;28;01melse\u001b[39;00m:\n\u001b[0;32m   1199\u001b[0m         \u001b[38;5;66;03m# catch and re-raise exception from here, clearing out pyparsing internal stack trace\u001b[39;00m\n\u001b[1;32m-> 1200\u001b[0m         \u001b[38;5;28;01mraise\u001b[39;00m exc\u001b[38;5;241m.\u001b[39mwith_traceback(\u001b[38;5;28;01mNone\u001b[39;00m)\n\u001b[0;32m   1201\u001b[0m \u001b[38;5;28;01melse\u001b[39;00m:\n\u001b[0;32m   1202\u001b[0m     \u001b[38;5;28;01mreturn\u001b[39;00m tokens\n",
      "\u001b[1;31mParseException\u001b[0m: Expected SelectQuery, found '.'  (at char 76), (line:2, col:76)"
     ]
    }
   ],
   "source": [
    "cq =\"\"\"\n",
    "PREFIX etvco: <http://www.semanticweb.org/casaz/ontologies/2024/10/etvco/> .\n",
    "PREFIX rdfs: <http://www.w3.org/2000/01/rdf-schema#> .\n",
    "\n",
    "SELECT ?shape ?realworldobject\n",
    "WHERE {\n",
    "  ?shape a etvco:Shape;                 \n",
    "         etvco:makes ?object.                    \n",
    "  ?object etvco:hasInterpretation ?interpretation. \n",
    "  ?interpretation a etvco:Interpretation;\n",
    "              etvco:hasOutput ?realworldobject.\n",
    "  ?realworldobject a etvco:AlienTechnology.    \n",
    "}\n",
    "\"\"\"\n",
    "\n",
    "cqres = newg.query(cq)\n",
    "\n",
    "for row in cqres:\n",
    "    print(row)\n"
   ]
  },
  {
   "cell_type": "markdown",
   "id": "20b96fe3",
   "metadata": {},
   "source": [
    "CQ2: \"How are these shapes interpreted by different agents?\""
   ]
  },
  {
   "cell_type": "code",
   "execution_count": null,
   "id": "4b227274-0ef5-42ac-8d9f-ae1e58d9550f",
   "metadata": {},
   "outputs": [],
   "source": [
    "@prefix etvco:<http://www.semanticweb.org/casaz/ontologies/2024/10/etvco/> .\n",
    "@prefix rdfs: <http://www.w3.org/2000/01/rdf-schema#> .\n",
    "@prefix persp: <http://www.ontologydesignpatterns.org/ont/persp/perspectivisation.owl>\n",
    "\n",
    "SELECT ?shape ?agent ?interpretation\n",
    "WHERE {\n",
    "   ?shape a etvco:Shape;\n",
    "          rdfs:subClassOf ?Aspect.\n",
    "   ?Aspect etvco:makes ?Object.\n",
    "   ?Object etvco:hasInterpretation ?interpretation.\n",
    "   ?interpretation a etvco:Interpretation.\n",
    "   \n",
    "   ?interpretation rdfs:subClassOf ?Cut.\n",
    "   ?Cut a persp:Cut.\n",
    "   \n",
    "   ?Conceptualizer persp:holds ?Attitude.\n",
    "   ?Attitude persp:towards ?Cut.\n",
    "   ?conceptualizer rdfs:subClassOf ?agent.\n",
    "   ?agent a dul:Agent.\n",
    "}"
   ]
  },
  {
   "cell_type": "markdown",
   "id": "6c883f10",
   "metadata": {},
   "source": [
    "CQ3: \"What artifacts are interpreted as depicting alien technology?\""
   ]
  },
  {
   "cell_type": "code",
   "execution_count": null,
   "id": "e704f2cb-b969-4ca5-857b-d3a4feb6a113",
   "metadata": {},
   "outputs": [],
   "source": [
    "@prefix etvco:<http://www.semanticweb.org/casaz/ontologies/2024/10/etvco/> .\n",
    "@prefix rdfs:<http://www.w3.org/2000/01/rdf-schema#> .\n",
    "@prefix skos:<http://www.w3.org/2004/02/skos/core.html>\n",
    "@prefix icon:<https://w3id.org/icon/ontology/>\n",
    "SELECT ?Artwork ?interpretation\n",
    "WHERE {\n",
    "  ?interpretation a etvco:interpretation;\n",
    "   skos:broadMatch ?PreiconographicalRecognition.\n",
    "  \n",
    "  ?PreiconographicalRecognition a icon:PreiconographicalRecognition;\n",
    "  rdfs:subclassOf ?Recognition.\n",
    "  \n",
    "  ?Recognition a icon:Recognition;\n",
    "  icon:aboutWorkOfArt ?Artwork.\n",
    "  \n",
    "  ?Artwork  a icon:Artwork.   \n",
    "  \n",
    "}"
   ]
  },
  {
   "cell_type": "code",
   "execution_count": null,
   "id": "6413de6c-0b92-48f0-a486-a96f6be9a12a",
   "metadata": {},
   "outputs": [],
   "source": [
    "CQ4:\"What is the cut of a specific interpretation of conspiracy theorists?\""
   ]
  },
  {
   "cell_type": "code",
   "execution_count": null,
   "id": "ef7c99bb-c36d-407c-a42e-fdbe596bcbfe",
   "metadata": {},
   "outputs": [],
   "source": [
    "@prefix etvco:<http://www.semanticweb.org/casaz/ontologies/2024/10/etvco/> .\n",
    "@prefix rdfs:<http://www.w3.org/2000/01/rdf-schema#> .\n",
    "@prefix persp: <http://www.ontologydesignpatterns.org/ont/persp/perspectivisation.owl>\n",
    "@prefix dul:<http://www.loa-cnr.it/ontologies/DUL.owl>\n",
    "\n",
    "\n",
    "\n",
    "SELECT ?agent ?cut ?interpretation\n",
    "WHERE {\n",
    "   ?interpretation a etvco:Interpretation;\n",
    "                   rdfs:subClassOf ?cut.\n",
    "   ?cut a persp:Cut.\n",
    "\n",
    "   ?conceptualizer persp:holds ?attitude.\n",
    "   ?attitude persp:towards ?cut.\n",
    "\n",
    "   ?conceptualizer rdfs:subClassOf ?agent.\n",
    "   ?agent a dul:Agent.\n",
    "}"
   ]
  }
 ],
 "metadata": {
  "kernelspec": {
   "display_name": "Python 3",
   "language": "python",
   "name": "python3"
  },
  "language_info": {
   "codemirror_mode": {
    "name": "ipython",
    "version": 3
   },
   "file_extension": ".py",
   "mimetype": "text/x-python",
   "name": "python",
   "nbconvert_exporter": "python",
   "pygments_lexer": "ipython3",
   "version": "3.10.11"
  }
 },
 "nbformat": 4,
 "nbformat_minor": 5
}
