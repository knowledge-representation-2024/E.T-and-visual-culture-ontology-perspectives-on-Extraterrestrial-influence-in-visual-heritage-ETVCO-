{
 "cells": [
  {
   "cell_type": "markdown",
   "id": "9945067d",
   "metadata": {},
   "source": [
    "1. Story Title: Interpretations of Artifacts (sculptures, paintings, petroglyphs etc) with Unusual Features-more  level2"
   ]
  },
  {
   "cell_type": "code",
   "execution_count": null,
   "id": "4353a587-06a5-4904-83cc-46e8b1bc8ae7",
   "metadata": {},
   "outputs": [],
   "source": [
    "CQ1: Which are the artifacts that are interpreted as depicting humanoid figures ?"
   ]
  },
  {
   "cell_type": "code",
   "execution_count": null,
   "id": "f95968c9-7c54-45e0-a02b-c4df03cc2b82",
   "metadata": {},
   "outputs": [],
   "source": [
    "@prefix etvco:<http://www.semanticweb.org/casaz/ontologies/2024/10/etvco/>.\n",
    "@prefix rdfs:<http://www.w3.org/2000/01/rdf-schema#>.\n",
    "@prefix icon:<https://w3id.org/icon/ontology/>.\n",
    "\n",
    "SELECT ?artifact ?realworldobject ?interpretation\n",
    "WHERE {\n",
    "    ?artifact a icon:Artwork;\n",
    "             icon:hasRecognition ?Recognition.\n",
    "              \n",
    "   ?Recognition a etvco:PerceptionRecognition;\n",
    "   \n",
    "   \n",
    "    ?HumanoidFigure rdfs:subclass\n",
    "\n",
    "    \n",
    "    \n",
    "    ?artifact etvco:hasInterpretation ?interpretation.\n",
    "    ?interpretation a etvco:Interpretation.\n",
    "}\n"
   ]
  },
  {
   "cell_type": "markdown",
   "id": "00572019",
   "metadata": {},
   "source": [
    "CQ2:What are the specific subjects interpreted differently by different agents?"
   ]
  },
  {
   "cell_type": "code",
   "execution_count": null,
   "id": "8ca3ea05",
   "metadata": {},
   "outputs": [],
   "source": [
    "@prefix etvco:<http://www.semanticweb.org/casaz/ontologies/2024/10/etvco/> .\n",
    "@prefix rdfs:<http://www.w3.org/2000/01/rdf-schema#>.\n",
    "@prefix icon:<https://w3id.org/icon/ontology/>.\n",
    "@prefix persp: <http://www.ontologydesignpatterns.org/ont/persp/perspectivisation.owl>.\n",
    "SELECT  ?agent ?interpretation\n",
    "WHERE {\n",
    "   ?shape a etvco:Shape;\n",
    "         etvco:makes ?Object.\n",
    "   ?Object etvco:hasInterpretation ?interpretation.\n",
    "   ?interpretation a etvco:Interpretation.\n",
    "   \n",
    "   \n",
    "   ?Conceptualizer persp:holds ?Attitude.\n",
    "   ?Attitude persp:towards ?Interpretation.\n",
    "   ?conceptualizer rdfs:subClassOf ?agent.\n",
    "   ?agent a dul:Agent.\n",
    "}"
   ]
  },
  {
   "cell_type": "markdown",
   "id": "5f152563-1f45-4274-b5d9-aeaf826ae807",
   "metadata": {},
   "source": [
    "CQ3: What visual features(attribute) (e.g., head size, body shape) contribute to the alien interpretation? "
   ]
  },
  {
   "cell_type": "code",
   "execution_count": null,
   "id": "0b90bc94-5e1c-4398-8ad1-ee2392dbd212",
   "metadata": {},
   "outputs": [],
   "source": [
    "@prefix etvco:<http://www.semanticweb.org/casaz/ontologies/2024/10/etvco/> .\n",
    "@prefix rdfs:<http://www.w3.org/2000/01/rdf-schema#>.\n",
    "@prefix icon:<https://w3id.org/icon/ontology/>.\n",
    "@prefix persp: <http://www.ontologydesignpatterns.org/ont/persp/perspectivisation.owl>.\n",
    "\n",
    "SELECT ?artwork ?motif ?aspect ?composition ?meaning\n",
    "\n",
    "WHERE {\n",
    "    ?artwork a icon:Artwork.\n",
    "    ?recognition a icon:IconographicalRecognition;\n",
    "                 icon:aboutWorkOfArt ?artwork.\n",
    "                 icon:recognizedImage ?image.\n",
    "    ?image a icon:Image; \n",
    "           icon:hasCharacter ?character.\n",
    "    ?character a etvco:AlienRelatedCharacter.\n",
    "    ?image icon:hasRecAttribute ?motif.\n",
    "    ?motif a icon:ArtisticMotif;\n",
    "           icon:hasFactualMeaning ?meaning.\n",
    "    ?meaning a etvco:RealWorldObject;\n",
    "            etvco:isDefinedBy ?interpretation.\n",
    "    ?interpretation etvco:dependOn ?object.\n",
    "    {?object etvco:madeBy ?aspect. ?aspect a etvco:Aspect}\n",
    "    UNION\n",
    "    {?object etvco:madeBy ?composition. ?composition a etvco:CompositionOfAspects}\n",
    "    \n",
    "    \n",
    "}"
   ]
  },
  {
   "cell_type": "markdown",
   "id": "b9bdaf96",
   "metadata": {},
   "source": [
    "CQ4: Why are these aspects considered as evidence of alien depiction?"
   ]
  },
  {
   "cell_type": "code",
   "execution_count": null,
   "id": "b9274575-ba87-49e9-89bb-6cee60c1b288",
   "metadata": {},
   "outputs": [],
   "source": [
    "@prefix etvco:<http://www.semanticweb.org/casaz/ontologies/2024/10/etvco/> .\n",
    "\n",
    "SELECT ?aspect ?object ?Internpretation\n",
    "WHERE {\n",
    "    ?aspect a etvco:Aspect;\n",
    "            etvco:makes ?object.\n",
    "    \n",
    "    ?object etvco:hasInterpretation ?interpretation.\n",
    "    ?interpretation etvco:dependOn ?object.\n",
    "    \n",
    "    ?meaning a etvco:RealWorldObject;\n",
    "             etvco:isDefinedBy ?interpretation.\n",
    "                 \n",
    "    ?object etvco:hasCharacter ?character.\n",
    "    ?character a etvco:AlienRelatedCharacter.\n",
    "}\n"
   ]
  },
  {
   "cell_type": "code",
   "execution_count": null,
   "id": "0f685bd3-1e80-4090-899a-97728be19bcf",
   "metadata": {},
   "outputs": [],
   "source": [
    "CQ5: How are these features interpreted by other agents (art historians, archeologists)?"
   ]
  },
  {
   "cell_type": "code",
   "execution_count": null,
   "id": "7cb6e78e-35ca-4880-aac3-0318212f3d4c",
   "metadata": {},
   "outputs": [],
   "source": [
    "2. Story Title: Artifacts interpreted as evidence of Alien Technology\n",
    "CQ1: \"What kind of shapes are interpreted as modern technology?\""
   ]
  },
  {
   "cell_type": "code",
   "execution_count": null,
   "id": "72b45120-e2a7-4a4e-8b81-4c33ffc53146",
   "metadata": {},
   "outputs": [],
   "source": [
    "@prefix etvco:<http://www.semanticweb.org/casaz/ontologies/2024/10/etvco/> .\n",
    "\n",
    "SELECT ?shape ?Internpretation\n",
    "WHERE {\n",
    "  ?shape a etvco:Shape;                                         \n",
    "        etvco:makes ?object.                    \n",
    "  ?object etvco:hasInterpretation ?interpretation. \n",
    "  ?interpretation a etvco:Interpretation.    \n",
    "  ?interpretation  etvco:hasOutput ?RealworldObject.\n",
    "  ?RealworldObject a etvco:AlienTechnologicalObject.\n",
    "}\n"
   ]
  },
  {
   "cell_type": "code",
   "execution_count": null,
   "id": "198108fd-50ab-427e-8e8a-5fc722911c77",
   "metadata": {},
   "outputs": [],
   "source": [
    "CQ2: \"How are these shapes interpreted by different agents?\""
   ]
  },
  {
   "cell_type": "code",
   "execution_count": null,
   "id": "4b227274-0ef5-42ac-8d9f-ae1e58d9550f",
   "metadata": {},
   "outputs": [],
   "source": [
    "@prefix etvco:<http://www.semanticweb.org/casaz/ontologies/2024/10/etvco/> .\n",
    "@prefix rdfs:<http://www.w3.org/2000/01/rdf-schema#>.\n",
    "@prefix persp: <http://www.ontologydesignpatterns.org/ont/persp/perspectivisation.owl>.\n",
    "@prefix dul:<http://www.loa-cnr.it/ontologies/DUL.owl>\n",
    "\n",
    "SELECT ?shape ?agent ?interpretation\n",
    "WHERE {\n",
    "   ?shape a etvco:Shape;\n",
    "         etvco:makes ?Object.\n",
    "   ?Object etvco:hasInterpretation ?interpretation.\n",
    "   ?interpretation a etvco:Interpretation.\n",
    "   \n",
    "   \n",
    "   ?Conceptualizer persp:holds ?Attitude.\n",
    "   ?Attitude persp:towards ?Interpretation.\n",
    "   ?conceptualizer rdfs:subClassOf ?agent.\n",
    "   ?agent a dul:Agent.\n",
    "}"
   ]
  },
  {
   "cell_type": "code",
   "execution_count": null,
   "id": "9e588648-dc48-4753-ad51-f87cf53b90ae",
   "metadata": {},
   "outputs": [],
   "source": [
    "CQ3: \"What artifacts are interpreted as depicting alien technology?\""
   ]
  },
  {
   "cell_type": "code",
   "execution_count": null,
   "id": "e704f2cb-b969-4ca5-857b-d3a4feb6a113",
   "metadata": {},
   "outputs": [],
   "source": [
    "@prefix etvco:<http://www.semanticweb.org/casaz/ontologies/2024/10/etvco/> .\n",
    "@prefix skos:<http://www.w3.org/2004/02/skos/core.html>\n",
    "@prefix icon:<https://w3id.org/icon/ontology/>\n",
    "SELECT ?Artwork ?RealWorldObject\n",
    "WHERE {\n",
    "  ?Interpretation a etvco:Interpretation;\n",
    "                skos:broadMatch ?PreiconographicalRecognition.\n",
    "  \n",
    "  ?PreiconographicalRecognition a icon:PreiconographicalRecognition;\n",
    "                               icon:aboutWorkOfArt ?Artwork.\n",
    "  ?Artwork  a icon:Artwork.  \n",
    "  \n",
    "  ?RealworldObject a etvco:AlienTechnologicalObject.\n",
    "}"
   ]
  },
  {
   "cell_type": "markdown",
   "id": "250fd179",
   "metadata": {},
   "source": [
    "CQ4:\" What object position makes that object interpreted as alien technology?"
   ]
  },
  {
   "cell_type": "code",
   "execution_count": null,
   "id": "302db71c",
   "metadata": {},
   "outputs": [],
   "source": [
    "@prefix etvco:<http://www.semanticweb.org/casaz/ontologies/2024/10/etvco/> .\n",
    "\n",
    "SELECT ?Position ?Interpretation\n",
    "WHERE {\n",
    "  ?position a etvco:Position;                                         \n",
    "        etvco:makes ?object.                    \n",
    "  ?object etvco:hasInterpretation ?Interpretation. \n",
    "  ?interpretation a etvco:Interpretation.    \n",
    "  ?interpretation  etvco:hasOutput ?RealworldObject.\n",
    "  ?realworldObject a etvco:AlienTechnologicalObject.\n",
    "}\n"
   ]
  },
  {
   "cell_type": "markdown",
   "id": "01d986d5",
   "metadata": {},
   "source": [
    "3. Story Title: Artifacts interpreted by art historians/archeologists as evidence of human culture/symbolism"
   ]
  },
  {
   "cell_type": "markdown",
   "id": "a106d60e",
   "metadata": {},
   "source": [
    "CQ1: What artifacts are interpreted as depicting human life/thought?"
   ]
  },
  {
   "cell_type": "code",
   "execution_count": null,
   "id": "fa2d3a65",
   "metadata": {},
   "outputs": [],
   "source": [
    "@prefix etvco:<http://www.semanticweb.org/casaz/ontologies/2024/10/etvco/> .\n",
    "@prefix skos:<http://www.w3.org/2004/02/skos/core.html>\n",
    "@prefix icon:<https://w3id.org/icon/ontology/>\n",
    "\n",
    "SELECT ?Artwork ?RealWorldObject #?CulturalContext\n",
    "WHERE{\n",
    "  ?interpretation a etvco:Interpretation;\n",
    "        skos:broadMatch ?PreiconographicalRecognition.\n",
    "  \n",
    "  ?PreiconographicalRecognition a icon:PreiconographicalRecognition;\n",
    "        icon:aboutWorkOfArt ?Artwork.\n",
    "  ?artwork  a icon:Artwork. \n",
    "  \n",
    "  ?RealworldObject a etvco:Humanlife #we need a etvco:Humanlife to correspond with  etvco:AlienTechnologicalObject. other wide it overlapped with question below or i did in this way\n",
    "  \n",
    "  ?artwork etvco:hasCulturalContext ?CulturalContext\n",
    "  ?CulturalContext etvco:isRelatedto ?humanlife}"
   ]
  },
  {
   "cell_type": "markdown",
   "id": "114915a9",
   "metadata": {},
   "source": [
    "CQ2: What artifacts are interpreted from an anthropological (or human-centered) perspective?---comes to attitude and agent?"
   ]
  },
  {
   "cell_type": "code",
   "execution_count": null,
   "id": "225c795a",
   "metadata": {},
   "outputs": [],
   "source": [
    "@prefix etvco:<http://www.semanticweb.org/casaz/ontologies/2024/10/etvco/> .\n",
    "@prefix skos:<http://www.w3.org/2004/02/skos/core.html>\n",
    "@prefix icon:<https://w3id.org/icon/ontology/>\n",
    "SELECT ?Artwork ?AnthropocentricismRelatedConcept\n",
    "WHERE{\n",
    "  ?interpretation a etvco:Interpretation;\n",
    "        skos:broadMatch ?PreiconographicalRecognition.\n",
    "  \n",
    "  ?PreiconographicalRecognition a icon:PreiconographicalRecognition;\n",
    "        icon:aboutWorkOfArt ?Artwork.\n",
    "  ?artwork  a icon:Artwork. \n",
    "  \n",
    "  ?anthropocentricismRelatedConcept a etvco:Concept #need to link\n",
    "  }"
   ]
  },
  {
   "cell_type": "markdown",
   "id": "47835a37",
   "metadata": {},
   "source": [
    "CQ3: Which aspects related to cultural context make the human-centered interpretations?\n"
   ]
  },
  {
   "cell_type": "code",
   "execution_count": null,
   "id": "4bc55ab9",
   "metadata": {},
   "outputs": [],
   "source": [
    "@prefix etvco:<http://www.semanticweb.org/casaz/ontologies/2024/10/etvco/> .\n",
    "@prefix skos:<http://www.w3.org/2004/02/skos/core.html>\n",
    "@prefix icon:<https://w3id.org/icon/ontology/>\n",
    "\n",
    "SELECT ?Aspect ?Interpretation\n",
    "WHERE {\n",
    "  \n",
    "  ?artwork etvco:hasCulturalContext ?CulturalContext\n",
    "  ?aspect a etvco:Aspect;                                         \n",
    "        etvco:makes ?object.                    \n",
    "  ?object etvco:hasInterpretation ?Interpretation. \n",
    "  ?interpretation a etvco:Interpretation.    \n",
    "   skos:broadMatch ?PreiconographicalRecognition.\n",
    "  \n",
    "  ?PreiconographicalRecognition a icon:PreiconographicalRecognition;\n",
    "  icon:aboutWorkOfArt ?Artwork.\n",
    "  ?artwork  a icon:Artwork. \n",
    " \n",
    "  ?artwork etvco:hasCulturalContext ?CulturalContext\n",
    "}\n"
   ]
  },
  {
   "cell_type": "markdown",
   "id": "21deff87",
   "metadata": {},
   "source": [
    "4. Story Title: Different periods, cultures and geographical locations and Interpretations"
   ]
  },
  {
   "cell_type": "markdown",
   "id": "4210d0da",
   "metadata": {},
   "source": [
    "CQ1: Which period of time has the higher number of artifacts interpreted as evidence of alien existence?"
   ]
  },
  {
   "cell_type": "code",
   "execution_count": null,
   "id": "38e2149e",
   "metadata": {},
   "outputs": [],
   "source": [
    "@prefix etvco:<http://www.semanticweb.org/casaz/ontologies/2024/10/etvco/> .\n",
    "@prefix skos:<http://www.w3.org/2004/02/skos/core.html>\n",
    "@prefix icon:<https://w3id.org/icon/ontology/>\n",
    "\n",
    "SELECT ?Period ?Artwork ?RealworldObject \n",
    "WHERE { \n",
    "   ?RealworldObject a etvco:AlienTechnologicalObject;\n",
    "                    etvco:isDefinedBy ?Interpretation.\n",
    "   ?interpretation a etvco:Interpretation;\n",
    "              skos:broadMatch ?Recognition.\n",
    "   ?Recognition a icon:Recognition;\n",
    "               icon:aboutWorkOfArt ?Artwork.\n",
    "\n",
    "   ?artwork  a icon:Artwork;\n",
    "            etvco:wasCreatedInPeriod ?Period.\n",
    "    ?period a etvco:Period.\n",
    "  \n",
    "  \n",
    "  ?Character a  etvco:AlienRelatedConcept\n",
    "} #NEED "
   ]
  },
  {
   "cell_type": "markdown",
   "id": "eda3dfd9",
   "metadata": {},
   "source": [
    "CQ2:In which place and time a particular artifact was conceived? \n",
    "Which was the cultural context in which it was made?"
   ]
  },
  {
   "cell_type": "code",
   "execution_count": null,
   "id": "7d09c42b",
   "metadata": {},
   "outputs": [],
   "source": [
    "@prefix etvco:<http://www.semanticweb.org/casaz/ontologies/2024/10/etvco/> .\n",
    "@prefix icon:<https://w3id.org/icon/ontology/>\n",
    "\n",
    "SELECT ?Artwork ?Period ?Place ?CulturalContext \n",
    "WHERE { \n",
    "?artwork  a icon:Artwork;\n",
    "            etvco:wasCreatedInPeriod ?Period\n",
    "            etvco:wasCreatedInPalce ?Place\n",
    "            etvco:hasCulturalContext ?CulturalContext\n",
    "\n",
    "\n",
    "?period a etvco:Period\n",
    "?Place a etvco:Place\n",
    "?culturalcontext a etvco:?CulturalContext\n",
    "}"
   ]
  },
  {
   "cell_type": "markdown",
   "id": "c520346c",
   "metadata": {},
   "source": [
    "5. Story Title: Cognitive perspectivisation in image recognition"
   ]
  },
  {
   "cell_type": "markdown",
   "id": "07469a83",
   "metadata": {},
   "source": [
    "CQ1: What are the values of all the lens of recognitions related to aliens?"
   ]
  },
  {
   "cell_type": "code",
   "execution_count": null,
   "id": "ed3ff8f1",
   "metadata": {},
   "outputs": [],
   "source": [
    "@prefix persp: <http://www.ontologydesignpatterns.org/ont/persp/perspectivisation.owl>\n",
    "@prefix dul:<http://www.loa-cnr.it/ontologies/DUL.owl>\n",
    "@prefix icon:<https://w3id.org/icon/ontology/>\n",
    "\n",
    "SELECT ?Recognitions ?Lens\n",
    "WHERE { \n",
    "?recognition a dul:Situation.\n",
    "?situation   a dul:Situation;\n",
    "            dul:includesAgent ?Conceptualizer.\n",
    "?conceptualizer a persp:Conceptualizer;\n",
    "             persp:holds ?Attitude.\n",
    "?attitude  a persp:Attitude;\n",
    "            persp:towards ?Cut.\n",
    "?cut a persp:Cut;\n",
    "     persp:shotThrough ?Lens.\n",
    "?lens a persp:Lens.\n",
    "}"
   ]
  },
  {
   "cell_type": "markdown",
   "id": "6ac389a4",
   "metadata": {},
   "source": [
    "CQ2: What are all the conceptualizers of perspectivisations related to archeology/art history?"
   ]
  },
  {
   "cell_type": "markdown",
   "id": "33448d45",
   "metadata": {},
   "source": [
    "SELECT ?Conceptualizer ?CognitivePerspectivisation ?AnthropocentricismRelatedConcept\n"
   ]
  },
  {
   "cell_type": "markdown",
   "id": "7fd7b464",
   "metadata": {},
   "source": [
    "CQ3: What is the background knowledge of all the perspectivisations?"
   ]
  },
  {
   "cell_type": "code",
   "execution_count": null,
   "id": "dc79fe51",
   "metadata": {},
   "outputs": [],
   "source": [
    "@prefix persp: <http://www.ontologydesignpatterns.org/ont/persp/perspectivisation.owl>\n",
    "\n",
    "SELECT ?BackgroundKnowledge ?CognitivePerspectivisation\n",
    "WHERE {\n",
    "?backroundknowledge a persp:BackgroundKnowledge;\n",
    "                  persp:hasShaped CognitivePerspectivisation.\n",
    "?cognitivePerspectivisation a persp:CognitivePerspectivisation;\n",
    "                 persp:fromBackgroundKnowledge.\n",
    "}\n",
    "                     "
   ]
  },
  {
   "cell_type": "markdown",
   "id": "7683dd5b",
   "metadata": {},
   "source": [
    "CQ4: What is the attitude of a specific perspectivisation related to aliens?"
   ]
  },
  {
   "cell_type": "code",
   "execution_count": null,
   "id": "6fd81786",
   "metadata": {},
   "outputs": [],
   "source": [
    "@prefix persp: <http://www.ontologydesignpatterns.org/ont/persp/perspectivisation.owl>\n",
    "@prefix etvco:<http://www.semanticweb.org/casaz/ontologies/2024/10/etvco/> .\n",
    "\n",
    "SELECT ?attitude ?CognitivePerspectivisation\n",
    "WHERE {\n",
    "?cognitivePerspectivisation a persp:CognitivePerspectivisation;\n",
    "                          persp:withAttitude ?Attitude.\n",
    "?attitude a persp:Attitude;\n",
    "         persp:towards ?cut.\n",
    "?cut a etvco:Interpretation.\n",
    "?interpretation etvco:hasOutput ?HumanoidFigure; #have some doubt \n",
    "                etvco:hasOutput ?RealworldObject.\n",
    "\n",
    "?realworldObject a etvco:AlienTechnologicalObject.\n",
    "}\n",
    "\n",
    "\n",
    "        "
   ]
  },
  {
   "cell_type": "markdown",
   "id": "e952f9d1",
   "metadata": {},
   "source": [
    "CQ5: What are all the eventualities related to alien interpretations?"
   ]
  },
  {
   "cell_type": "code",
   "execution_count": null,
   "id": "5968808a",
   "metadata": {},
   "outputs": [],
   "source": [
    "@prefix etvco:<http://www.semanticweb.org/casaz/ontologies/2024/10/etvco/> .\n",
    "@prefix persp: <http://www.ontologydesignpatterns.org/ont/persp/perspectivisation.owl>\n",
    "\n",
    "SELECT ?Eventuality ?RealworldObject\n",
    "WHERE {\n",
    "    ?Eventuality a persp:Eventuality;\n",
    "              rdfs:hasSubclass ?RealWorldObject.\n",
    "    ?realworldobject etvco:isDefineBy ?Interpretation\n",
    "\n",
    "    ?interpretation etvco:hasOutput ?HumanoidFigure;\n",
    "                etvco:hasOutput ?realworldObject.\n",
    "\n",
    "    ?realworldObject a etvco:AlienTechnologicalObject.\n",
    "}\n"
   ]
  }
 ],
 "metadata": {
  "kernelspec": {
   "display_name": "Python 3 (ipykernel)",
   "language": "python",
   "name": "python3"
  },
  "language_info": {
   "codemirror_mode": {
    "name": "ipython",
    "version": 3
   },
   "file_extension": ".py",
   "mimetype": "text/x-python",
   "name": "python",
   "nbconvert_exporter": "python",
   "pygments_lexer": "ipython3",
   "version": "3.12.4"
  }
 },
 "nbformat": 4,
 "nbformat_minor": 5
}
