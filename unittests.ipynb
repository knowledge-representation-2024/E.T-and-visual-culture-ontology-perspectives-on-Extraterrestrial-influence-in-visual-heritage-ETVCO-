{
 "cells": [
  {
   "cell_type": "markdown",
   "id": "4353a587-06a5-4904-83cc-46e8b1bc8ae7",
   "metadata": {},
   "source": [
    "# Ontology evaluation using SPARQL queries and competency questions\n"
   ]
  },
  {
   "cell_type": "code",
   "execution_count": 1,
   "id": "f8ee63d2",
   "metadata": {},
   "outputs": [],
   "source": [
    "import rdflib\n",
    "from rdflib.namespace import CSVW, DC, DCAT, DCTERMS, DOAP, FOAF, ODRL2, ORG, OWL, \\\n",
    "                           PROF, PROV, RDF, RDFS, SDO, SH, SKOS, SOSA, SSN, TIME, \\\n",
    "                           VOID, XMLNS, XSD\n",
    "from rdflib import Namespace\n",
    "from rdflib import URIRef\n",
    "from owlrl import DeductiveClosure, OWLRL_Semantics\n"
   ]
  },
  {
   "cell_type": "code",
   "execution_count": 2,
   "id": "5dcc2e8d",
   "metadata": {},
   "outputs": [
    {
     "name": "stdout",
     "output_type": "stream",
     "text": [
      "The graph contains 921 triples.\n"
     ]
    }
   ],
   "source": [
    "newg = rdflib.Graph() # we create a new graph\n",
    "newg.parse(\"etvcontology.ttl\", format=\"ttl\")\n",
    "DeductiveClosure(OWLRL_Semantics).expand(newg)\n",
    "num_triples = len(newg)\n",
    "print(f\"The graph contains {num_triples} triples.\")\n"
   ]
  },
  {
   "cell_type": "markdown",
   "id": "7d9442db",
   "metadata": {},
   "source": [
    "## 1. Story Title: Interpretations of Artifacts (sculptures, paintings, petroglyphs etc) with Unusual Features\n",
    "CQ1: Which are the artifacts that are interpreted as depicting humanoid figures?"
   ]
  },
  {
   "cell_type": "code",
   "execution_count": 3,
   "id": "f95968c9-7c54-45e0-a02b-c4df03cc2b82",
   "metadata": {},
   "outputs": [
    {
     "name": "stdout",
     "output_type": "stream",
     "text": [
      "(rdflib.term.URIRef('https://raw.githubusercontent.com/knowledge-representation-2024/E.T-and-visual-culture-ontology-perspectives-on-Extraterrestrial-influence-in-visual-heritage-ETVCO-/refs/heads/main/etvcontology.ttl#img_1'), rdflib.term.Literal('Petroglyphs in caves in the mountains of Kimberley Australia'))\n"
     ]
    }
   ],
   "source": [
    "cq = \"\"\"\n",
    "PREFIX etvco:<https://raw.githubusercontent.com/knowledge-representation-2024/E.T-and-visual-culture-ontology-perspectives-on-Extraterrestrial-influence-in-visual-heritage-ETVCO-/refs/heads/main/etvcontology.ttl#>\n",
    "PREFIX persp:<http://www.ontologydesignpatterns.org/ont/persp/perspectivisation.owl#>\n",
    "PREFIX dul:<http://www.ontologydesignpatterns.org/ont/dul/DUL.owl#>\n",
    "PREFIX icon:<https://w3id.org/icon/ontology/>\n",
    "\n",
    "SELECT ?workOfArt ?label\n",
    "WHERE {\n",
    "    ?realWorldObject a etvco:HumanoidFigure;\n",
    "    icon:isFactualMeaningOf ?artisticMotif.\n",
    "    ?artisticMotif icon:isRecognizedArtisticMotifOf ?preIconRec.\n",
    "    ?preIconRec icon:aboutWorkOfArt ?workOfArt.\n",
    "       ?workOfArt etvco:hasLabel ?label. \n",
    "}\n",
    "\"\"\"\n",
    "\n",
    "cqres = newg.query(cq)\n",
    "\n",
    "for row in cqres:\n",
    "    print(row)\n"
   ]
  },
  {
   "cell_type": "markdown",
   "id": "5f152563-1f45-4274-b5d9-aeaf826ae807",
   "metadata": {},
   "source": [
    "CQ2: What visual features(attribute) (e.g., head size, body shape) contribute to the alien interpretation? "
   ]
  },
  {
   "cell_type": "code",
   "execution_count": 4,
   "id": "0b90bc94-5e1c-4398-8ad1-ee2392dbd212",
   "metadata": {},
   "outputs": [
    {
     "name": "stdout",
     "output_type": "stream",
     "text": [
      "(rdflib.term.URIRef('http://www.ontologydesignpatterns.org/ont/fred/domain.owl#grey_1'), rdflib.term.URIRef('http://www.ontologydesignpatterns.org/ont/fred/domain.owl#humanoid_1'), rdflib.term.URIRef('http://www.ontologydesignpatterns.org/ont/fred/domain.owl#eye_1'), rdflib.term.URIRef('http://www.ontologydesignpatterns.org/ont/fred/domain.owl#Large'))\n",
      "(rdflib.term.URIRef('http://www.ontologydesignpatterns.org/ont/fred/domain.owl#grey_1'), rdflib.term.URIRef('http://www.ontologydesignpatterns.org/ont/fred/domain.owl#humanoid_1'), rdflib.term.URIRef('http://www.ontologydesignpatterns.org/ont/fred/domain.owl#head_1'), rdflib.term.URIRef('http://www.ontologydesignpatterns.org/ont/fred/domain.owl#Oval'))\n"
     ]
    }
   ],
   "source": [
    "cq = \"\"\"\n",
    "PREFIX etvco:<https://raw.githubusercontent.com/knowledge-representation-2024/E.T-and-visual-culture-ontology-perspectives-on-Extraterrestrial-influence-in-visual-heritage-ETVCO-/refs/heads/main/etvcontology.ttl#>\n",
    "PREFIX persp:<http://www.ontologydesignpatterns.org/ont/persp/perspectivisation.owl#>\n",
    "PREFIX dul:<http://www.ontologydesignpatterns.org/ont/dul/DUL.owl#>\n",
    "PREFIX icon:<https://w3id.org/icon/ontology/>\n",
    "\n",
    "SELECT DISTINCT ?character ?realWorldObject ?visualFeature ?quality\n",
    "WHERE {\n",
    "    ?character a etvco:AlienRelatedCharacter;\n",
    "        icon:isCharacterOf ?image.\n",
    "          ?image a icon:Image;\n",
    "        icon:hasRecAttribute ?artisticMotif.\n",
    "    ?artisticMotif a icon:ArtisticMotif;\n",
    "        icon:hasFactualMeaning ?realWorldObject.\n",
    "    ?realWorldObject a etvco:RealWorldObject.\n",
    "      ?visualFeature dul:isPartOf ?realWorldObject;\n",
    "        dul:hasQuality ?quality.  \n",
    "}\"\"\"\n",
    "\n",
    "cqres = newg.query(cq)\n",
    "\n",
    "for row in cqres:\n",
    "    print(row)"
   ]
  },
  {
   "cell_type": "markdown",
   "id": "70428364",
   "metadata": {},
   "source": [
    "CQ3: \"How do conspiracy theorists interpret certain artworks as depictions of aliens, and how are these interpretations evaluated or challenged by art historians and archaeologists?\""
   ]
  },
  {
   "cell_type": "code",
   "execution_count": 5,
   "id": "0f685bd3-1e80-4090-899a-97728be19bcf",
   "metadata": {},
   "outputs": [
    {
     "name": "stdout",
     "output_type": "stream",
     "text": [
      "(rdflib.term.URIRef('https://raw.githubusercontent.com/knowledge-representation-2024/E.T-and-visual-culture-ontology-perspectives-on-Extraterrestrial-influence-in-visual-heritage-ETVCO-/refs/heads/main/etvcontology.ttl#img_1'), rdflib.term.Literal('Petroglyphs in caves in the mountains of Kimberley Australia'), rdflib.term.URIRef('http://www.ontologydesignpatterns.org/ont/fred/domain.owl#grey_1'), rdflib.term.URIRef('http://www.ontologydesignpatterns.org/ont/fred/domain.owl#spirit_1'))\n"
     ]
    }
   ],
   "source": [
    "cq = \"\"\"\n",
    "PREFIX etvco:<https://raw.githubusercontent.com/knowledge-representation-2024/E.T-and-visual-culture-ontology-perspectives-on-Extraterrestrial-influence-in-visual-heritage-ETVCO-/refs/heads/main/etvcontology.ttl#>\n",
    "PREFIX persp:<http://www.ontologydesignpatterns.org/ont/persp/perspectivisation.owl#>\n",
    "PREFIX dul:<http://www.ontologydesignpatterns.org/ont/dul/DUL.owl#>\n",
    "PREFIX icon:<https://w3id.org/icon/ontology/>\n",
    "\n",
    "SELECT DISTINCT ?workOfArt ?label ?alienCharacter ?character\n",
    "WHERE {\n",
    "    ?alienCharacter a etvco:AlienRelatedCharacter;\n",
    "        icon:isCharacterOf ?image.\n",
    "          ?image a icon:Image;\n",
    "          icon:isImageOf ?iconRec.\n",
    "    ?iconRec a icon:IconographicalRecognition;\n",
    "      icon:aboutWorkOfArt ?workOfArt.\n",
    "      ?workOfArt etvco:hasLabel ?label.\n",
    "    OPTIONAL {\n",
    "      ?character a icon:Character.\n",
    "        FILTER NOT EXISTS {\n",
    "          ?character a etvco:AlienRelatedCharacter.\n",
    "        }\n",
    "      ?character icon:isCharacterOf ?imageTwo.\n",
    "      ?imageTwo icon:isImageOf ?iconRecTwo.\n",
    "      ?iconRecTwo a icon:IconographicalRecognition;\n",
    "      icon:aboutWorkOfArt ?workOfArt.\n",
    "    }\n",
    "}\"\"\"\n",
    "\n",
    "cqres = newg.query(cq)\n",
    "\n",
    "for row in cqres:\n",
    "    print(row)"
   ]
  },
  {
   "cell_type": "markdown",
   "id": "da93eb2d",
   "metadata": {},
   "source": [
    "## 2. Story Title: Artifacts interpreted as evidence of Alien Technology\n",
    "CQ1: \"What kind of shapes are interpreted as alien technology?\""
   ]
  },
  {
   "cell_type": "code",
   "execution_count": 18,
   "id": "7b3ce013",
   "metadata": {},
   "outputs": [
    {
     "name": "stdout",
     "output_type": "stream",
     "text": [
      "(rdflib.term.URIRef('http://www.ontologydesignpatterns.org/ont/fred/domain.owl#Disc-shaped'), rdflib.term.URIRef('http://www.ontologydesignpatterns.org/ont/fred/domain.owl#ufo_1'))\n",
      "(rdflib.term.URIRef('http://www.ontologydesignpatterns.org/ont/fred/domain.owl#Round'), rdflib.term.URIRef('https://raw.githubusercontent.com/knowledge-representation-2024/E.T-and-visual-culture-ontology-perspectives-on-Extraterrestrial-influence-in-visual-heritage-ETVCO-/refs/heads/main/etvcontology.ttl#ufo_2'))\n"
     ]
    }
   ],
   "source": [
    "cq =\"\"\"\n",
    "PREFIX etvco:<https://raw.githubusercontent.com/knowledge-representation-2024/E.T-and-visual-culture-ontology-perspectives-on-Extraterrestrial-influence-in-visual-heritage-ETVCO-/refs/heads/main/etvcontology.ttl#>\n",
    "PREFIX dul:<http://www.ontologydesignpatterns.org/ont/dul/DUL.owl#>\n",
    "\n",
    "SELECT DISTINCT ?shape ?realworldobject\n",
    "WHERE {\n",
    "    ?shape a etvco:Shape.\n",
    "    {\n",
    "        ?shape dul:isPartOf ?composition.\n",
    "        ?composition a etvco:CompositionOfAspects;\n",
    "        etvco:makes ?object.\n",
    "    }\n",
    "    UNION\n",
    "    {\n",
    "        ?shape etvco:makes ?object .\n",
    "    }\n",
    "    ?object etvco:hasInterpretation ?interpretation.\n",
    "    ?interpretation etvco:hasOutput ?realworldobject.\n",
    "    ?realworldobject a etvco:AlienTechnologicalObject.\n",
    "}\n",
    "\"\"\"\n",
    "\n",
    "cqres = newg.query(cq)\n",
    "\n",
    "for row in cqres:\n",
    "    print(row)"
   ]
  },
  {
   "cell_type": "markdown",
   "id": "20b96fe3",
   "metadata": {},
   "source": [
    "CQ2: \"How are the shapes interpreted by different agents?\""
   ]
  },
  {
   "cell_type": "code",
   "execution_count": 7,
   "id": "4b227274-0ef5-42ac-8d9f-ae1e58d9550f",
   "metadata": {},
   "outputs": [
    {
     "name": "stdout",
     "output_type": "stream",
     "text": [
      "(rdflib.term.URIRef('https://raw.githubusercontent.com/knowledge-representation-2024/E.T-and-visual-culture-ontology-perspectives-on-Extraterrestrial-influence-in-visual-heritage-ETVCO-/refs/heads/main/etvcontology.ttl#conspiracy_theorist_1'), rdflib.term.URIRef('http://www.ontologydesignpatterns.org/ont/fred/domain.owl#Disc-shaped'), rdflib.term.URIRef('https://raw.githubusercontent.com/knowledge-representation-2024/E.T-and-visual-culture-ontology-perspectives-on-Extraterrestrial-influence-in-visual-heritage-ETVCO-/refs/heads/main/etvcontology.ttl#interpretation_1'), rdflib.term.URIRef('http://www.ontologydesignpatterns.org/ont/fred/domain.owl#ufo_1'), None, None, None, None, None, None)\n",
      "(rdflib.term.URIRef('http://www.ontologydesignpatterns.org/ont/fred/domain.owl#historian_1'), rdflib.term.URIRef('http://www.ontologydesignpatterns.org/ont/fred/domain.owl#Dome-shaped'), rdflib.term.URIRef('https://raw.githubusercontent.com/knowledge-representation-2024/E.T-and-visual-culture-ontology-perspectives-on-Extraterrestrial-influence-in-visual-heritage-ETVCO-/refs/heads/main/etvcontology.ttl#interpretation_2'), rdflib.term.URIRef('https://raw.githubusercontent.com/knowledge-representation-2024/E.T-and-visual-culture-ontology-perspectives-on-Extraterrestrial-influence-in-visual-heritage-ETVCO-/refs/heads/main/etvcontology.ttl#unknown_1'), rdflib.term.URIRef('http://www.ontologydesignpatterns.org/ont/fred/domain.owl#angel_1'), None, None, None, None, None)\n"
     ]
    }
   ],
   "source": [
    "cq = \"\"\"\n",
    "PREFIX etvco:<https://raw.githubusercontent.com/knowledge-representation-2024/E.T-and-visual-culture-ontology-perspectives-on-Extraterrestrial-influence-in-visual-heritage-ETVCO-/refs/heads/main/etvcontology.ttl#>\n",
    "PREFIX persp: <http://www.ontologydesignpatterns.org/ont/persp/perspectivisation.owl#>\n",
    "PREFIX dul:<http://www.ontologydesignpatterns.org/ont/dul/DUL.owl#>\n",
    "PREFIX icon:<https://w3id.org/icon/ontology/>\n",
    "\n",
    "SELECT DISTINCT ?agent ?shape ?interpretation ?realworldobject ?character ?place ?event ?namedObject ?symbol ?personification\n",
    "WHERE {\n",
    "  ?shape a etvco:Shape;\n",
    "         etvco:makes ?object.\n",
    "  ?object etvco:hasInterpretation ?interpretation.\n",
    "  ?interpretation etvco:hasOutput ?realworldobject.\n",
    "  \n",
    "  OPTIONAL {\n",
    "    ?realworldobject icon:isFactualMeaningOf ?artisticMotif.\n",
    "    ?artisticMotif a icon:ArtisticMotif;\n",
    "                   icon:isRecAttributeOf ?image.\n",
    "    ?image a icon:Image.\n",
    "    \n",
    "    OPTIONAL {?image icon:hasCharacter ?character}\n",
    "    OPTIONAL {?image icon:hasPlace ?place}\n",
    "    OPTIONAL {?image icon:hasEvent ?event}\n",
    "    OPTIONAL {?image icon:hasNamedObject ?namedObject}\n",
    "    OPTIONAL {?image icon:hasSymbol ?symbol}\n",
    "    OPTIONAL {?image icon:hasPersonification ?personification}\n",
    "  }\n",
    "  \n",
    "  OPTIONAL {\n",
    "    ?agent a dul:Agent;\n",
    "      persp:creates ?interpretation.\n",
    "  }\n",
    "}\n",
    "\"\"\"\n",
    "\n",
    "cqres = newg.query(cq)\n",
    "\n",
    "for row in cqres:\n",
    "    print(row)"
   ]
  },
  {
   "cell_type": "markdown",
   "id": "6c883f10",
   "metadata": {},
   "source": [
    "CQ3: \"What artifacts are interpreted as depicting alien technology?\""
   ]
  },
  {
   "cell_type": "code",
   "execution_count": 8,
   "id": "e704f2cb-b969-4ca5-857b-d3a4feb6a113",
   "metadata": {},
   "outputs": [
    {
     "name": "stdout",
     "output_type": "stream",
     "text": [
      "(rdflib.term.Literal('Le Livre Des Bonnes Moeurs'), rdflib.term.URIRef('https://raw.githubusercontent.com/knowledge-representation-2024/E.T-and-visual-culture-ontology-perspectives-on-Extraterrestrial-influence-in-visual-heritage-ETVCO-/refs/heads/main/etvcontology.ttl#img_3'), rdflib.term.URIRef('https://raw.githubusercontent.com/knowledge-representation-2024/E.T-and-visual-culture-ontology-perspectives-on-Extraterrestrial-influence-in-visual-heritage-ETVCO-/refs/heads/main/etvcontology.ttl#ufo_2'))\n",
      "(rdflib.term.Literal('The Crucifixion of Christ'), rdflib.term.URIRef('https://raw.githubusercontent.com/knowledge-representation-2024/E.T-and-visual-culture-ontology-perspectives-on-Extraterrestrial-influence-in-visual-heritage-ETVCO-/refs/heads/main/etvcontology.ttl#img_2'), rdflib.term.URIRef('http://www.ontologydesignpatterns.org/ont/fred/domain.owl#ufo_1'))\n"
     ]
    }
   ],
   "source": [
    "cq = \"\"\"\n",
    "PREFIX etvco:<https://raw.githubusercontent.com/knowledge-representation-2024/E.T-and-visual-culture-ontology-perspectives-on-Extraterrestrial-influence-in-visual-heritage-ETVCO-/refs/heads/main/etvcontology.ttl#>\n",
    "PREFIX icon:<https://w3id.org/icon/ontology/>\n",
    "SELECT DISTINCT ?label ?workOfArt ?realworldobject\n",
    "WHERE {\n",
    "    ?realworldobject a etvco:AlienTechnologicalObject;\n",
    "      icon:isFactualMeaningOf ?artisticMotif.\n",
    "      ?artisticMotif icon:isRecognizedArtisticMotifOf ?preIconRec.\n",
    "      ?preIconRec icon:aboutWorkOfArt ?workOfArt.\n",
    "      ?workOfArt etvco:hasLabel ?label\n",
    "\n",
    "}\n",
    "\"\"\"\n",
    "\n",
    "cqres = newg.query(cq)\n",
    "\n",
    "for row in cqres:\n",
    "    print(row)"
   ]
  },
  {
   "cell_type": "markdown",
   "id": "c14d721c",
   "metadata": {},
   "source": [
    "CQ4: \"What object position makes objects interpreted as alien technology?\""
   ]
  },
  {
   "cell_type": "code",
   "execution_count": 19,
   "id": "ef7c99bb-c36d-407c-a42e-fdbe596bcbfe",
   "metadata": {},
   "outputs": [
    {
     "name": "stdout",
     "output_type": "stream",
     "text": [
      "(rdflib.term.URIRef('http://www.ontologydesignpatterns.org/ont/fred/domain.owl#sky_1'), rdflib.term.URIRef('https://raw.githubusercontent.com/knowledge-representation-2024/E.T-and-visual-culture-ontology-perspectives-on-Extraterrestrial-influence-in-visual-heritage-ETVCO-/refs/heads/main/etvcontology.ttl#ufo_2'))\n"
     ]
    }
   ],
   "source": [
    "cq =\"\"\"\n",
    "PREFIX etvco:<https://raw.githubusercontent.com/knowledge-representation-2024/E.T-and-visual-culture-ontology-perspectives-on-Extraterrestrial-influence-in-visual-heritage-ETVCO-/refs/heads/main/etvcontology.ttl#>\n",
    "PREFIX dul:<http://www.ontologydesignpatterns.org/ont/dul/DUL.owl#>\n",
    "\n",
    "SELECT DISTINCT ?position ?realworldobject\n",
    "WHERE {\n",
    "   ?position a etvco:Position.\n",
    "   {\n",
    "   ?shape dul:isPartOf ?composition.\n",
    "   ?composition a etvco:CompositionOfAspects;\n",
    "      etvco:makes ?object.\n",
    "   }\n",
    "   UNION\n",
    "   {\n",
    "   ?position etvco:makes ?object .\n",
    "     }\n",
    "   ?object etvco:hasInterpretation ?interpretation.\n",
    "   ?interpretation etvco:hasOutput ?realworldobject.\n",
    "   ?realworldobject a etvco:AlienTechnologicalObject.\n",
    "}\n",
    "\"\"\"\n",
    "\n",
    "cqres = newg.query(cq)\n",
    "\n",
    "for row in cqres:\n",
    "    print(row)\n"
   ]
  },
  {
   "cell_type": "markdown",
   "id": "9d12e4ab",
   "metadata": {},
   "source": [
    "## 3. Story title: Different periods, cultures and geographical locations and Interpretations"
   ]
  },
  {
   "cell_type": "markdown",
   "id": "76ae083b",
   "metadata": {},
   "source": [
    "CQ1: Which are the period, place and cultural context of each artwork interpreted as depicting alien related concepts?"
   ]
  },
  {
   "cell_type": "code",
   "execution_count": 10,
   "id": "24bdbf1a",
   "metadata": {},
   "outputs": [
    {
     "name": "stdout",
     "output_type": "stream",
     "text": [
      "(rdflib.term.URIRef('https://raw.githubusercontent.com/knowledge-representation-2024/E.T-and-visual-culture-ontology-perspectives-on-Extraterrestrial-influence-in-visual-heritage-ETVCO-/refs/heads/main/etvcontology.ttl#img_1'), rdflib.term.Literal('Petroglyphs in caves in the mountains of Kimberley Australia'), None, rdflib.term.URIRef('http://www.ontologydesignpatterns.org/ont/fred/domain.owl#Kimberley_australia'), rdflib.term.URIRef('http://www.ontologydesignpatterns.org/ont/fred/domain.owl#AboriginalTradition'))\n",
      "(rdflib.term.URIRef('https://raw.githubusercontent.com/knowledge-representation-2024/E.T-and-visual-culture-ontology-perspectives-on-Extraterrestrial-influence-in-visual-heritage-ETVCO-/refs/heads/main/etvcontology.ttl#img_2'), rdflib.term.Literal('The Crucifixion of Christ'), rdflib.term.URIRef('http://www.ontologydesignpatterns.org/ont/fred/domain.owl#17thCenturyMural'), rdflib.term.URIRef('http://www.ontologydesignpatterns.org/ont/fred/domain.owl#Svetishoveli_cathedral'), None)\n",
      "(rdflib.term.URIRef('https://raw.githubusercontent.com/knowledge-representation-2024/E.T-and-visual-culture-ontology-perspectives-on-Extraterrestrial-influence-in-visual-heritage-ETVCO-/refs/heads/main/etvcontology.ttl#img_3'), rdflib.term.Literal('Le Livre Des Bonnes Moeurs'), rdflib.term.URIRef('https://raw.githubusercontent.com/knowledge-representation-2024/E.T-and-visual-culture-ontology-perspectives-on-Extraterrestrial-influence-in-visual-heritage-ETVCO-/refs/heads/main/etvcontology.ttl#1338_A.D.'), None, None)\n"
     ]
    }
   ],
   "source": [
    "cq =\"\"\"\n",
    "PREFIX etvco:<https://raw.githubusercontent.com/knowledge-representation-2024/E.T-and-visual-culture-ontology-perspectives-on-Extraterrestrial-influence-in-visual-heritage-ETVCO-/refs/heads/main/etvcontology.ttl#>\n",
    "PREFIX persp: <http://www.ontologydesignpatterns.org/ont/persp/perspectivisation.owl#>\n",
    "PREFIX dul:<http://www.ontologydesignpatterns.org/ont/dul/DUL.owl#>\n",
    "PREFIX icon:<https://w3id.org/icon/ontology/>\n",
    "\n",
    "SELECT DISTINCT ?artwork ?label ?period ?place ?culturalContext\n",
    "WHERE {\n",
    "    ?artwork a icon:Artwork;\n",
    "        etvco:hasLabel ?label .\n",
    "    OPTIONAL\n",
    "    { ?artwork etvco:wasCreatedInPeriod ?period }\n",
    "    OPTIONAL\n",
    "    { ?artwork etvco:wasCreatedInPlace ?place }\n",
    "    OPTIONAL\n",
    "    { ?artwork etvco:hasCulturalContext ?culturalContext }\n",
    "    \n",
    "    ?rec icon:aboutWorkOfArt ?artwork;\n",
    "        persp:Cut ?interpretation.\n",
    "    ?interpretation a etvco:AlienRelatedInterpretation.\n",
    "}\n",
    "\"\"\"\n",
    "\n",
    "cqres = newg.query(cq)\n",
    "\n",
    "for row in cqres:\n",
    "    print(row)"
   ]
  },
  {
   "cell_type": "markdown",
   "id": "2e9d636c",
   "metadata": {},
   "source": [
    "CQ2: Which is the period of time with the highest number of artworks interpreted as depicting alien related concepts?"
   ]
  },
  {
   "cell_type": "code",
   "execution_count": 11,
   "id": "5c78ccee",
   "metadata": {},
   "outputs": [
    {
     "name": "stdout",
     "output_type": "stream",
     "text": [
      "(rdflib.term.URIRef('https://raw.githubusercontent.com/knowledge-representation-2024/E.T-and-visual-culture-ontology-perspectives-on-Extraterrestrial-influence-in-visual-heritage-ETVCO-/refs/heads/main/etvcontology.ttl#ModernTime'), rdflib.term.Literal('2', datatype=rdflib.term.URIRef('http://www.w3.org/2001/XMLSchema#integer')))\n"
     ]
    }
   ],
   "source": [
    "cq=\"\"\"\n",
    "PREFIX etvco:<https://raw.githubusercontent.com/knowledge-representation-2024/E.T-and-visual-culture-ontology-perspectives-on-Extraterrestrial-influence-in-visual-heritage-ETVCO-/refs/heads/main/etvcontology.ttl#>\n",
    "PREFIX persp: <http://www.ontologydesignpatterns.org/ont/persp/perspectivisation.owl#>\n",
    "PREFIX dul:<http://www.ontologydesignpatterns.org/ont/dul/DUL.owl#>\n",
    "PREFIX icon:<https://w3id.org/icon/ontology/>\n",
    "\n",
    "SELECT ?periodClass (COUNT(?artwork) AS ?artworkCount)\n",
    "WHERE {\n",
    "    ?artwork a icon:Artwork.\n",
    "    ?artwork etvco:wasCreatedInPeriod ?period .\n",
    "    ?period a etvco:Period.\n",
    "    ?period a ?periodClass .\n",
    "    ?rec icon:aboutWorkOfArt ?artwork;\n",
    "        persp:Cut ?interpretation.\n",
    "    ?interpretation a etvco:AlienRelatedInterpretation.\n",
    "}\n",
    "GROUP BY ?periodClass\n",
    "ORDER BY DESC(?artworkCount)\n",
    "LIMIT 1 \n",
    "\"\"\"\n",
    "\n",
    "\n",
    "cqres = newg.query(cq)\n",
    "\n",
    "for row in cqres:\n",
    "    print(row)"
   ]
  },
  {
   "cell_type": "markdown",
   "id": "d0d62bd5",
   "metadata": {},
   "source": [
    "## 4. Story title: Cognitive perspectivisation in image recognition"
   ]
  },
  {
   "cell_type": "markdown",
   "id": "8c4be436",
   "metadata": {},
   "source": [
    "CQ1: What are the values of all the lens of perspectivisations related to aliens?"
   ]
  },
  {
   "cell_type": "code",
   "execution_count": 12,
   "id": "0ab5bdb1",
   "metadata": {},
   "outputs": [
    {
     "name": "stdout",
     "output_type": "stream",
     "text": [
      "(rdflib.term.URIRef('http://www.ontologydesignpatterns.org/ont/fred/domain.owl#ufo_1'),)\n",
      "(rdflib.term.URIRef('https://raw.githubusercontent.com/knowledge-representation-2024/E.T-and-visual-culture-ontology-perspectives-on-Extraterrestrial-influence-in-visual-heritage-ETVCO-/refs/heads/main/etvcontology.ttl#ufo_2'),)\n",
      "(rdflib.term.URIRef('http://www.ontologydesignpatterns.org/ont/fred/domain.owl#humanoid_1'),)\n",
      "(rdflib.term.URIRef('http://www.ontologydesignpatterns.org/ont/fred/domain.owl#grey_1'),)\n"
     ]
    }
   ],
   "source": [
    "cq=\"\"\"\n",
    "PREFIX etvco:<https://raw.githubusercontent.com/knowledge-representation-2024/E.T-and-visual-culture-ontology-perspectives-on-Extraterrestrial-influence-in-visual-heritage-ETVCO-/refs/heads/main/etvcontology.ttl#>\n",
    "PREFIX persp: <http://www.ontologydesignpatterns.org/ont/persp/perspectivisation.owl#>\n",
    "PREFIX dul:<http://www.ontologydesignpatterns.org/ont/dul/DUL.owl#>\n",
    "PREFIX icon:<https://w3id.org/icon/ontology/>\n",
    "\n",
    "SELECT DISTINCT ?lens\n",
    "WHERE {\n",
    "    ?cut a persp:Cut;\n",
    "    a etvco:AlienRelatedInterpretation;\n",
    "    persp:shotThrough ?lens.\n",
    "    ?lens a persp:Lens.\n",
    "}\n",
    "\"\"\"\n",
    "\n",
    "\n",
    "cqres = newg.query(cq)\n",
    "\n",
    "for row in cqres:\n",
    "    print(row)"
   ]
  },
  {
   "cell_type": "markdown",
   "id": "9d1619e1",
   "metadata": {},
   "source": [
    "CQ2: What are all the conceptualizers of perspectivisations related to archeology/art history?"
   ]
  },
  {
   "cell_type": "code",
   "execution_count": 13,
   "id": "dd61fd8f",
   "metadata": {},
   "outputs": [
    {
     "name": "stdout",
     "output_type": "stream",
     "text": [
      "(rdflib.term.URIRef('https://raw.githubusercontent.com/knowledge-representation-2024/E.T-and-visual-culture-ontology-perspectives-on-Extraterrestrial-influence-in-visual-heritage-ETVCO-/refs/heads/main/etvcontology.ttl#interpretation_7'), rdflib.term.URIRef('https://raw.githubusercontent.com/knowledge-representation-2024/E.T-and-visual-culture-ontology-perspectives-on-Extraterrestrial-influence-in-visual-heritage-ETVCO-/refs/heads/main/etvcontology.ttl#archeologist_1'))\n",
      "(rdflib.term.URIRef('https://raw.githubusercontent.com/knowledge-representation-2024/E.T-and-visual-culture-ontology-perspectives-on-Extraterrestrial-influence-in-visual-heritage-ETVCO-/refs/heads/main/etvcontology.ttl#interpretation_6'), rdflib.term.URIRef('http://www.ontologydesignpatterns.org/ont/fred/domain.owl#historian_1'))\n",
      "(rdflib.term.URIRef('https://raw.githubusercontent.com/knowledge-representation-2024/E.T-and-visual-culture-ontology-perspectives-on-Extraterrestrial-influence-in-visual-heritage-ETVCO-/refs/heads/main/etvcontology.ttl#interpretation_2'), rdflib.term.URIRef('http://www.ontologydesignpatterns.org/ont/fred/domain.owl#historian_1'))\n"
     ]
    }
   ],
   "source": [
    "cq=\"\"\"\n",
    "PREFIX etvco:<https://raw.githubusercontent.com/knowledge-representation-2024/E.T-and-visual-culture-ontology-perspectives-on-Extraterrestrial-influence-in-visual-heritage-ETVCO-/refs/heads/main/etvcontology.ttl#>\n",
    "PREFIX persp: <http://www.ontologydesignpatterns.org/ont/persp/perspectivisation.owl#>\n",
    "PREFIX dul:<http://www.ontologydesignpatterns.org/ont/dul/DUL.owl#>\n",
    "PREFIX icon:<https://w3id.org/icon/ontology/>\n",
    "\n",
    "SELECT DISTINCT ?interpretation ?agent\n",
    "WHERE {\n",
    "    ?cPersp a persp:Perspectivisation;\n",
    "    persp:Cut ?interpretation.\n",
    "    {?interpretation a etvco:ArtHistoryRelatedInterpretation.}\n",
    "    UNION\n",
    "    {?interpretation a etvco:ArcheologyRelatedInterpretation.}\n",
    "    ?cPersp persp:Conceptualiser ?agent.\n",
    "\n",
    "        \n",
    "}\n",
    "\"\"\"\n",
    "\n",
    "\n",
    "cqres = newg.query(cq)\n",
    "\n",
    "for row in cqres:\n",
    "    print(row)"
   ]
  },
  {
   "cell_type": "markdown",
   "id": "3fade132",
   "metadata": {},
   "source": [
    "CQ3: What is the background knowledge of all the perspectivisations?"
   ]
  },
  {
   "cell_type": "code",
   "execution_count": 14,
   "id": "87d0d2ce",
   "metadata": {},
   "outputs": [
    {
     "name": "stdout",
     "output_type": "stream",
     "text": [
      "(rdflib.term.URIRef('https://raw.githubusercontent.com/knowledge-representation-2024/E.T-and-visual-culture-ontology-perspectives-on-Extraterrestrial-influence-in-visual-heritage-ETVCO-/refs/heads/main/etvcontology.ttl#iconrec_1'), rdflib.term.URIRef('https://raw.githubusercontent.com/knowledge-representation-2024/E.T-and-visual-culture-ontology-perspectives-on-Extraterrestrial-influence-in-visual-heritage-ETVCO-/refs/heads/main/etvcontology.ttl#historical_artwork_interpretation'))\n",
      "(rdflib.term.URIRef('https://raw.githubusercontent.com/knowledge-representation-2024/E.T-and-visual-culture-ontology-perspectives-on-Extraterrestrial-influence-in-visual-heritage-ETVCO-/refs/heads/main/etvcontology.ttl#iconrec_2'), rdflib.term.URIRef('https://raw.githubusercontent.com/knowledge-representation-2024/E.T-and-visual-culture-ontology-perspectives-on-Extraterrestrial-influence-in-visual-heritage-ETVCO-/refs/heads/main/etvcontology.ttl#historical_artwork_interpretation'))\n",
      "(rdflib.term.URIRef('https://raw.githubusercontent.com/knowledge-representation-2024/E.T-and-visual-culture-ontology-perspectives-on-Extraterrestrial-influence-in-visual-heritage-ETVCO-/refs/heads/main/etvcontology.ttl#iconrec_3'), rdflib.term.URIRef('https://raw.githubusercontent.com/knowledge-representation-2024/E.T-and-visual-culture-ontology-perspectives-on-Extraterrestrial-influence-in-visual-heritage-ETVCO-/refs/heads/main/etvcontology.ttl#historical_artwork_interpretation'))\n",
      "(rdflib.term.URIRef('https://raw.githubusercontent.com/knowledge-representation-2024/E.T-and-visual-culture-ontology-perspectives-on-Extraterrestrial-influence-in-visual-heritage-ETVCO-/refs/heads/main/etvcontology.ttl#preicon_rec1'), rdflib.term.URIRef('https://raw.githubusercontent.com/knowledge-representation-2024/E.T-and-visual-culture-ontology-perspectives-on-Extraterrestrial-influence-in-visual-heritage-ETVCO-/refs/heads/main/etvcontology.ttl#historical_artwork_interpretation'))\n",
      "(rdflib.term.URIRef('https://raw.githubusercontent.com/knowledge-representation-2024/E.T-and-visual-culture-ontology-perspectives-on-Extraterrestrial-influence-in-visual-heritage-ETVCO-/refs/heads/main/etvcontology.ttl#preicon_rec2'), rdflib.term.URIRef('https://raw.githubusercontent.com/knowledge-representation-2024/E.T-and-visual-culture-ontology-perspectives-on-Extraterrestrial-influence-in-visual-heritage-ETVCO-/refs/heads/main/etvcontology.ttl#historical_artwork_interpretation'))\n",
      "(rdflib.term.URIRef('https://raw.githubusercontent.com/knowledge-representation-2024/E.T-and-visual-culture-ontology-perspectives-on-Extraterrestrial-influence-in-visual-heritage-ETVCO-/refs/heads/main/etvcontology.ttl#preicon_rec3'), rdflib.term.URIRef('https://raw.githubusercontent.com/knowledge-representation-2024/E.T-and-visual-culture-ontology-perspectives-on-Extraterrestrial-influence-in-visual-heritage-ETVCO-/refs/heads/main/etvcontology.ttl#historical_artwork_interpretation'))\n",
      "(rdflib.term.URIRef('https://raw.githubusercontent.com/knowledge-representation-2024/E.T-and-visual-culture-ontology-perspectives-on-Extraterrestrial-influence-in-visual-heritage-ETVCO-/refs/heads/main/etvcontology.ttl#preicon_rec4'), rdflib.term.URIRef('https://raw.githubusercontent.com/knowledge-representation-2024/E.T-and-visual-culture-ontology-perspectives-on-Extraterrestrial-influence-in-visual-heritage-ETVCO-/refs/heads/main/etvcontology.ttl#historical_artwork_interpretation'))\n"
     ]
    }
   ],
   "source": [
    "cq=\"\"\"\n",
    "PREFIX etvco:<https://raw.githubusercontent.com/knowledge-representation-2024/E.T-and-visual-culture-ontology-perspectives-on-Extraterrestrial-influence-in-visual-heritage-ETVCO-/refs/heads/main/etvcontology.ttl#>\n",
    "PREFIX persp:<http://www.ontologydesignpatterns.org/ont/persp/perspectivisation.owl#>\n",
    "PREFIX dul:<http://www.ontologydesignpatterns.org/ont/dul/DUL.owl#>\n",
    "PREFIX icon:<https://w3id.org/icon/ontology/>\n",
    "\n",
    "SELECT DISTINCT ?cp ?backgroundKnowledge\n",
    "WHERE {\n",
    "    ?cp a persp:Perspectivisation;\n",
    "        persp:Background ?backgroundKnowledge.\n",
    "    ?backgroundKnowledge a persp:Background.\n",
    "    \n",
    "}\n",
    "\"\"\"\n",
    "\n",
    "\n",
    "cqres = newg.query(cq)\n",
    "\n",
    "for row in cqres:\n",
    "    print(row)"
   ]
  },
  {
   "cell_type": "markdown",
   "id": "c1b6b428",
   "metadata": {},
   "source": [
    "CQ4: What is the attitude of all the perspectivisations related to aliens?"
   ]
  },
  {
   "cell_type": "code",
   "execution_count": 15,
   "id": "976c6cf0",
   "metadata": {},
   "outputs": [
    {
     "name": "stdout",
     "output_type": "stream",
     "text": [
      "(rdflib.term.URIRef('https://raw.githubusercontent.com/knowledge-representation-2024/E.T-and-visual-culture-ontology-perspectives-on-Extraterrestrial-influence-in-visual-heritage-ETVCO-/refs/heads/main/etvcontology.ttl#iconrec_1'), rdflib.term.URIRef('https://raw.githubusercontent.com/knowledge-representation-2024/E.T-and-visual-culture-ontology-perspectives-on-Extraterrestrial-influence-in-visual-heritage-ETVCO-/refs/heads/main/etvcontology.ttl#negative_attitude'))\n",
      "(rdflib.term.URIRef('https://raw.githubusercontent.com/knowledge-representation-2024/E.T-and-visual-culture-ontology-perspectives-on-Extraterrestrial-influence-in-visual-heritage-ETVCO-/refs/heads/main/etvcontology.ttl#preicon_rec1'), rdflib.term.URIRef('https://raw.githubusercontent.com/knowledge-representation-2024/E.T-and-visual-culture-ontology-perspectives-on-Extraterrestrial-influence-in-visual-heritage-ETVCO-/refs/heads/main/etvcontology.ttl#negative_attitude'))\n",
      "(rdflib.term.URIRef('https://raw.githubusercontent.com/knowledge-representation-2024/E.T-and-visual-culture-ontology-perspectives-on-Extraterrestrial-influence-in-visual-heritage-ETVCO-/refs/heads/main/etvcontology.ttl#preicon_rec2'), rdflib.term.URIRef('https://raw.githubusercontent.com/knowledge-representation-2024/E.T-and-visual-culture-ontology-perspectives-on-Extraterrestrial-influence-in-visual-heritage-ETVCO-/refs/heads/main/etvcontology.ttl#negative_attitude'))\n"
     ]
    }
   ],
   "source": [
    "cq=\"\"\"\n",
    "PREFIX etvco:<https://raw.githubusercontent.com/knowledge-representation-2024/E.T-and-visual-culture-ontology-perspectives-on-Extraterrestrial-influence-in-visual-heritage-ETVCO-/refs/heads/main/etvcontology.ttl#>\n",
    "PREFIX persp:<http://www.ontologydesignpatterns.org/ont/persp/perspectivisation.owl#>\n",
    "PREFIX dul:<http://www.ontologydesignpatterns.org/ont/dul/DUL.owl#>\n",
    "PREFIX icon:<https://w3id.org/icon/ontology/>\n",
    "\n",
    "SELECT DISTINCT ?cp ?attitude\n",
    "WHERE {\n",
    "    ?cp a persp:Perspectivisation;\n",
    "        persp:Cut ?interpretation.\n",
    "    ?interpretation a etvco:AlienRelatedInterpretation.\n",
    "    ?cp persp:Attitude ?attitude.\n",
    "  \n",
    "}\n",
    "\"\"\"\n",
    "\n",
    "\n",
    "cqres = newg.query(cq)\n",
    "\n",
    "for row in cqres:\n",
    "    print(row)"
   ]
  },
  {
   "cell_type": "markdown",
   "id": "96f05435",
   "metadata": {},
   "source": [
    "CQ5: Which are the pairs of contrasting cuts in the data?"
   ]
  },
  {
   "cell_type": "code",
   "execution_count": 16,
   "id": "2eda8447",
   "metadata": {},
   "outputs": [
    {
     "name": "stdout",
     "output_type": "stream",
     "text": [
      "(rdflib.term.URIRef('https://raw.githubusercontent.com/knowledge-representation-2024/E.T-and-visual-culture-ontology-perspectives-on-Extraterrestrial-influence-in-visual-heritage-ETVCO-/refs/heads/main/etvcontology.ttl#interpretation_1'), rdflib.term.URIRef('https://raw.githubusercontent.com/knowledge-representation-2024/E.T-and-visual-culture-ontology-perspectives-on-Extraterrestrial-influence-in-visual-heritage-ETVCO-/refs/heads/main/etvcontology.ttl#interpretation_6'), rdflib.term.URIRef('http://www.ontologydesignpatterns.org/ont/fred/domain.owl#ufo_1'), rdflib.term.URIRef('http://www.ontologydesignpatterns.org/ont/fred/domain.owl#angel_1'))\n",
      "(rdflib.term.URIRef('https://raw.githubusercontent.com/knowledge-representation-2024/E.T-and-visual-culture-ontology-perspectives-on-Extraterrestrial-influence-in-visual-heritage-ETVCO-/refs/heads/main/etvcontology.ttl#interpretation_5'), rdflib.term.URIRef('https://raw.githubusercontent.com/knowledge-representation-2024/E.T-and-visual-culture-ontology-perspectives-on-Extraterrestrial-influence-in-visual-heritage-ETVCO-/refs/heads/main/etvcontology.ttl#interpretation_7'), rdflib.term.URIRef('http://www.ontologydesignpatterns.org/ont/fred/domain.owl#grey_1'), rdflib.term.URIRef('http://www.ontologydesignpatterns.org/ont/fred/domain.owl#spirit_1'))\n"
     ]
    }
   ],
   "source": [
    "cq=\"\"\"\n",
    "PREFIX etvco:<https://raw.githubusercontent.com/knowledge-representation-2024/E.T-and-visual-culture-ontology-perspectives-on-Extraterrestrial-influence-in-visual-heritage-ETVCO-/refs/heads/main/etvcontology.ttl#>\n",
    "PREFIX persp: <http://www.ontologydesignpatterns.org/ont/persp/perspectivisation.owl#>\n",
    "PREFIX dul:<http://www.ontologydesignpatterns.org/ont/dul/DUL.owl#>\n",
    "PREFIX icon:<https://w3id.org/icon/ontology/>\n",
    "\n",
    "SELECT DISTINCT ?cut1 ?cut2 ?lens1 ?lens2\n",
    "WHERE {\n",
    "    ?cut1 a persp:Cut;\n",
    "        persp:shotThrough ?lens1;\n",
    "        persp:contrasts ?cut2.\n",
    "    ?cut2 a persp:Cut;\n",
    "        persp:shotThrough ?lens2.\n",
    "}\n",
    "\"\"\"\n",
    "\n",
    "\n",
    "cqres = newg.query(cq)\n",
    "\n",
    "for row in cqres:\n",
    "    print(row)"
   ]
  }
 ],
 "metadata": {
  "kernelspec": {
   "display_name": "Python 3",
   "language": "python",
   "name": "python3"
  },
  "language_info": {
   "codemirror_mode": {
    "name": "ipython",
    "version": 3
   },
   "file_extension": ".py",
   "mimetype": "text/x-python",
   "name": "python",
   "nbconvert_exporter": "python",
   "pygments_lexer": "ipython3",
   "version": "3.10.11"
  }
 },
 "nbformat": 4,
 "nbformat_minor": 5
}
